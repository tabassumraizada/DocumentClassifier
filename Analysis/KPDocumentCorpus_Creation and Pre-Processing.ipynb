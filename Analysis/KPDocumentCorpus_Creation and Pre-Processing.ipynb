{
 "cells": [
  {
   "cell_type": "markdown",
   "metadata": {},
   "source": [
    "First we will read through all the documents in the data folder and store them in text field in a dataframe along with the right label"
   ]
  },
  {
   "cell_type": "code",
   "execution_count": 1,
   "metadata": {},
   "outputs": [],
   "source": [
    "import docx2txt\n",
    "import PyPDF2 \n",
    "import pptx\n",
    "from pptx import Presentation\n",
    "import os\n",
    "import glob\n",
    "import pandas as pd\n",
    "import numpy as np\n",
    "from xlrd import open_workbook\n",
    "import re\n",
    "\n",
    "doc_label=[] \n",
    "doc_text=[]\n",
    "DocPath=[]\n",
    "DocType=[]\n",
    "# Other items to be removed - dates, Numbers, Hyperlinks, what about images?, Should we keep headers\n",
    "Dictionary={\"\\n\":\" \",\"\\xa0\":\" \", \"NULL\":\" \", \"NOT NULL\": \"  \",\"\\u200b\" :\" \"}\n",
    "\n",
    "os.chdir('C://Users//L833377//Desktop//ClassificationEngineIdeas//data')\n",
    "rootdir = os.getcwd()\n",
    "\n",
    "for subdir, dirs, files in os.walk(rootdir):\n",
    "\n",
    "    for file in files:\n",
    "        #print(os.path.join(subdir, file))\n",
    "        filepath = subdir + os.sep + file\n",
    "\n",
    "        if filepath.endswith(\".docx\"):\n",
    "            # read in word file\n",
    "            #print(filepath)\n",
    "            result = docx2txt.process(filepath)\n",
    "            \n",
    "            for i in Dictionary:\n",
    "                result=result.replace(i,Dictionary[i])\n",
    "            doc_text.append(result)\n",
    "            #doc_label.append(label[j-1])\n",
    "            doc_label.append(re.split(r'\\\\+',filepath)[6])\n",
    "            DocPath.append(file)\n",
    "            DocType.append('Word')\n",
    "            \n",
    "        # importing required modules \n",
    "\n",
    "        elif filepath.endswith(\".pdf\"):\n",
    "            # Note that Epic documentation pdf files could not be read. It depends on how the pdf files was generated\n",
    "            # creating a pdf file object \n",
    "            #print(filepath)\n",
    "            pdfFileObj = open(filepath, 'rb') \n",
    "  \n",
    "            # creating a pdf reader object \n",
    "            pdfReader = PyPDF2.PdfFileReader(pdfFileObj,strict=False) \n",
    "  \n",
    "            # printing number of pages in pdf file \n",
    "            #print(pdfReader.numPages) \n",
    "  \n",
    "            # creating a page object \n",
    "            pageObj = pdfReader.getPage(0) \n",
    "  \n",
    "            # extracting text from page \n",
    "            result=pageObj.extractText()\n",
    "            \n",
    "        \n",
    "            #print(result)\n",
    "            # closing the pdf file object \n",
    "            pdfFileObj.close() \n",
    "        \n",
    "            for i in Dictionary:\n",
    "                result=result.replace(i,Dictionary[i])\n",
    "                \n",
    "            doc_text.append(result)\n",
    "            #Attach the label\n",
    "            doc_label.append(re.split(r'\\\\+',filepath)[6])\n",
    "            DocPath.append(file)\n",
    "            DocType.append('pdf')\n",
    "        elif filepath.endswith(\".pptx\"):        \n",
    "\n",
    "            # Check the file being processed\n",
    "            #print(file)\n",
    "            pptx_txt=str()\n",
    "            prs = Presentation(filepath)\n",
    "\n",
    "            for slide in prs.slides:\n",
    "                for shape in slide.shapes:\n",
    "                    #print(shape)\n",
    "                    if hasattr(shape, \"text\"):\n",
    "                        pptx_txt += shape.text + \" \"\n",
    "                    # For pptx.shapes.graphfrm.GraphicFrame object text could be inside the table object\n",
    "                    #A graphic frame placeholder can contain a table, a chart, or SmartArt                    \n",
    "                    elif shape.has_table:\n",
    "                        table = shape.table\n",
    "                        for r in table.rows:\n",
    "                            \n",
    "                            for c in r.cells:\n",
    "                                pptx_txt += c.text_frame.text + \" \"\n",
    "            for i in Dictionary:\n",
    "                pptx_txt=pptx_txt.replace(i,Dictionary[i])\n",
    "            doc_text.append(pptx_txt)\n",
    "            #doc_label.append(label[j-1])\n",
    "            doc_label.append(re.split(r'\\\\+',filepath)[6])\n",
    "            DocPath.append(file)\n",
    "            DocType.append('powerpoint')  \n",
    "            \n",
    "        elif filepath.endswith(\".xlsx\") or filepath.endswith(\".xls\"):                            \n",
    "            wb = open_workbook(filepath,\"rb\")\n",
    "            xlsx_txt=str()\n",
    "            for s in wb.sheets():\n",
    "                #print('Sheet:',s.name)\n",
    "                \n",
    "                for row in range(s.nrows):\n",
    "\n",
    "                    for col in range(s.ncols):\n",
    "                        value  = (s.cell(row,col).value)\n",
    "                        try : value = str(int(value))\n",
    "                        except : pass\n",
    "                        xlsx_txt+= value + ' '\n",
    "\n",
    "            for i in Dictionary:\n",
    "                xlsx_txt=xlsx_txt.replace(i,Dictionary[i])           \n",
    "            doc_text.append(xlsx_txt)\n",
    "            #doc_label.append(label[j-1])\n",
    "            doc_label.append(re.split(r'\\\\+',filepath)[6])\n",
    "            DocPath.append(file)\n",
    "            DocType.append('Excel')           \n",
    "            \n",
    "        else:\n",
    "            pass\n",
    "                        \n",
    "df1 = {\n",
    "    'Label':doc_label,\n",
    "   'Text':doc_text,\n",
    "    'DocName':DocPath,\n",
    "    'DocType':DocType}\n",
    " \n",
    "df1 = pd.DataFrame(df1,columns=['Label','Text','DocName','DocType'])\n",
    "\n",
    "# overwriting column with replaced value of age  \n",
    "#df1[\"Text\"]= df1[\"Text\"].str.replace(\",\", \" \", case = False).str.replace(\"\\n\", \" \", case = False).str.replace(\"\\t\",\" \",case=False).str.replace(r\"\\\\\",\"\",case=False).str.replace(\"Â\",\"\").str.replace(\"﴿\",\"\").str.replace(\"﴾\",\"\").str.lower()\n",
    "\n",
    "df1.to_csv(\"KP_Corpus.csv\",index=False)\n",
    "#df1.to_excel(\"KP_Corpus.xlsx\",sheet_name='Extracted_Text')  \n"
   ]
  },
  {
   "cell_type": "code",
   "execution_count": 2,
   "metadata": {},
   "outputs": [
    {
     "data": {
      "text/html": [
       "<div>\n",
       "<style scoped>\n",
       "    .dataframe tbody tr th:only-of-type {\n",
       "        vertical-align: middle;\n",
       "    }\n",
       "\n",
       "    .dataframe tbody tr th {\n",
       "        vertical-align: top;\n",
       "    }\n",
       "\n",
       "    .dataframe thead th {\n",
       "        text-align: right;\n",
       "    }\n",
       "</style>\n",
       "<table border=\"1\" class=\"dataframe\">\n",
       "  <thead>\n",
       "    <tr style=\"text-align: right;\">\n",
       "      <th></th>\n",
       "      <th>Label</th>\n",
       "      <th>Text</th>\n",
       "      <th>DocName</th>\n",
       "      <th>DocType</th>\n",
       "    </tr>\n",
       "  </thead>\n",
       "  <tbody>\n",
       "    <tr>\n",
       "      <th>0</th>\n",
       "      <td>Claims</td>\n",
       "      <td>Adjudication  Match Referrals to Claims  Certa...</td>\n",
       "      <td>Adjudication.docx</td>\n",
       "      <td>Word</td>\n",
       "    </tr>\n",
       "    <tr>\n",
       "      <th>1</th>\n",
       "      <td>Claims</td>\n",
       "      <td>ALW_CHG_AMT at Claim Line Level =WDA_PRIMARY_A...</td>\n",
       "      <td>APCD Claims Calculation.docx</td>\n",
       "      <td>Word</td>\n",
       "    </tr>\n",
       "    <tr>\n",
       "      <th>2</th>\n",
       "      <td>Claims</td>\n",
       "      <td>Region NW Mandated APCD in place? Yes Voluntar...</td>\n",
       "      <td>APCD Questions.pptx</td>\n",
       "      <td>powerpoint</td>\n",
       "    </tr>\n",
       "    <tr>\n",
       "      <th>3</th>\n",
       "      <td>Claims</td>\n",
       "      <td>APCD (All Payer Claims Database)  Overview  Th...</td>\n",
       "      <td>apcd-KPWA.docx</td>\n",
       "      <td>Word</td>\n",
       "    </tr>\n",
       "    <tr>\n",
       "      <th>4</th>\n",
       "      <td>Claims</td>\n",
       "      <td>Claims Data Warehouse\u000b",
       "CDW 101 Module\u000b",
       "How to Pi...</td>\n",
       "      <td>CDW 101 How to Pick Tables.pptx</td>\n",
       "      <td>powerpoint</td>\n",
       "    </tr>\n",
       "  </tbody>\n",
       "</table>\n",
       "</div>"
      ],
      "text/plain": [
       "    Label                                               Text  \\\n",
       "0  Claims  Adjudication  Match Referrals to Claims  Certa...   \n",
       "1  Claims  ALW_CHG_AMT at Claim Line Level =WDA_PRIMARY_A...   \n",
       "2  Claims  Region NW Mandated APCD in place? Yes Voluntar...   \n",
       "3  Claims  APCD (All Payer Claims Database)  Overview  Th...   \n",
       "4  Claims  Claims Data Warehouse\n",
       "CDW 101 Module\n",
       "How to Pi...   \n",
       "\n",
       "                           DocName     DocType  \n",
       "0                Adjudication.docx        Word  \n",
       "1     APCD Claims Calculation.docx        Word  \n",
       "2              APCD Questions.pptx  powerpoint  \n",
       "3                   apcd-KPWA.docx        Word  \n",
       "4  CDW 101 How to Pick Tables.pptx  powerpoint  "
      ]
     },
     "execution_count": 2,
     "metadata": {},
     "output_type": "execute_result"
    }
   ],
   "source": [
    "df1.head()"
   ]
  },
  {
   "cell_type": "markdown",
   "metadata": {},
   "source": [
    "Pre-process data"
   ]
  },
  {
   "cell_type": "code",
   "execution_count": 3,
   "metadata": {},
   "outputs": [],
   "source": [
    "import re, string \n",
    "import pandas as pd   \n",
    "from collections import defaultdict\n",
    "import spacy\n",
    "from sklearn.manifold import TSNE\n",
    "from nltk.corpus import stopwords\n",
    "STOPWORDS = set(stopwords.words('english'))\n",
    "\n",
    "\n",
    "def clean_text(text):\n",
    "    '''Make text lowercase, remove text in square brackets, remove punctuation and remove words containing numbers.'''\n",
    "    text = text.lower()\n",
    "    text = re.sub(r'\\[.*?\\]', '', text)\n",
    "    text = re.sub(r'[%s]' % re.escape(string.punctuation), '', text)\n",
    "    text = re.sub(r'\\w*\\d\\w*', '', text)\n",
    "    text = re.sub(r'[\\w\\.-]+@([\\w\\.-]+)','',text) # remove email addresses from text\n",
    "    # Remove a sentence if it is only one word long\n",
    "    if len(text) > 2:\n",
    "        return ' '.join(word for word in text.split() if word not in STOPWORDS)\n",
    "df1['cleanText'] = pd.DataFrame(df1.Text.apply(lambda x: clean_text(x)))\n",
    "df1['Length']=df1['cleanText'].str.len()"
   ]
  },
  {
   "cell_type": "markdown",
   "metadata": {},
   "source": [
    "Analysis"
   ]
  },
  {
   "cell_type": "code",
   "execution_count": 26,
   "metadata": {},
   "outputs": [
    {
     "data": {
      "text/plain": [
       "Text(0, 0.5, 'Mean document length')"
      ]
     },
     "execution_count": 26,
     "metadata": {},
     "output_type": "execute_result"
    },
    {
     "data": {
      "image/png": "[encoded data removed]",
      "text/plain": [
       "<Figure size 432x288 with 1 Axes>"
      ]
     },
     "metadata": {
      "needs_background": "light"
     },
     "output_type": "display_data"
    }
   ],
   "source": [
    "from matplotlib import pyplot as plt\n",
    "%matplotlib inline\n",
    "#define a dictionary that maps the Category values to colours, and use the Pandas “replace” function to insert these into the plotting command. \n",
    "#colours = {\"Claims\": \"#273c75\", \"HealthCareDelivery\": \"#bd32bb\",\"Membership\": \"#bd5732\", \"Pharmacy\": \"#44bd32\",\"ProductandBenefits\": \"#bd9a32\", \"ProviderandNetwork\": \"#bd3250\"}\n",
    "# issue it is only taking the first color in the mapping and aplying to all\n",
    "colours = {\"Claims\": \"teal\", \"HealthCareDelivery\": \"green\",\"Membership\": \"blue\", \"Pharmacy\": \"yellow\",\"ProductandBenefits\": \"black\", \"ProviderandNetwork\": \"red\"}\n",
    "df1.groupby(\"Label\")['Length'].mean().plot(kind='bar', title=\"Mean length of document by Category\",color=df1['Label'].replace(colours))\n",
    "\n",
    "#colors = ['red', 'green', 'midnightblue', 'orange', 'darkgrey','teal']\n",
    "#df1.groupby(\"Label\")['Length'].mean().plot(kind='bar', title=\"Mean length of document by Category\",color=colors['Label'])\n",
    "\n",
    "#could also use barh\n",
    "#plt.xticks(rotation=30, horizontalalignment=\"left\")\n",
    "#plot.title(\"Mean length of document by Category\")\n",
    "plt.xlabel(\"Category\")\n",
    "plt.ylabel(\"Mean document length\")\n"
   ]
  },
  {
   "cell_type": "code",
   "execution_count": 5,
   "metadata": {},
   "outputs": [
    {
     "data": {
      "image/png": "[encoded data removed]",
      "text/plain": [
       "<Figure size 432x288 with 1 Axes>"
      ]
     },
     "metadata": {
      "needs_background": "light"
     },
     "output_type": "display_data"
    }
   ],
   "source": [
    "# we can see from the plot below that there are a few outliers on length\n",
    "import matplotlib.pyplot as plt\n",
    "\n",
    "fig, ax = plt.subplots()\n",
    "df1.groupby('Label').plot(x='DocName',y='Length', ax=ax, legend=False)\n",
    "#plt.xticks(rotation=30, horizontalalignment=\"left\")\n",
    "frame1 = plt.gca()\n",
    "frame1.axes.get_xaxis().set_visible(False)\n",
    "plt.show()"
   ]
  },
  {
   "cell_type": "markdown",
   "metadata": {},
   "source": [
    "Look for documents for which no text was extracted and resolve as needed"
   ]
  },
  {
   "cell_type": "code",
   "execution_count": 6,
   "metadata": {},
   "outputs": [
    {
     "data": {
      "text/html": [
       "<div>\n",
       "<style scoped>\n",
       "    .dataframe tbody tr th:only-of-type {\n",
       "        vertical-align: middle;\n",
       "    }\n",
       "\n",
       "    .dataframe tbody tr th {\n",
       "        vertical-align: top;\n",
       "    }\n",
       "\n",
       "    .dataframe thead th {\n",
       "        text-align: right;\n",
       "    }\n",
       "</style>\n",
       "<table border=\"1\" class=\"dataframe\">\n",
       "  <thead>\n",
       "    <tr style=\"text-align: right;\">\n",
       "      <th></th>\n",
       "      <th>Label</th>\n",
       "      <th>Text</th>\n",
       "      <th>DocName</th>\n",
       "      <th>DocType</th>\n",
       "      <th>cleanText</th>\n",
       "      <th>Length</th>\n",
       "    </tr>\n",
       "  </thead>\n",
       "  <tbody>\n",
       "  </tbody>\n",
       "</table>\n",
       "</div>"
      ],
      "text/plain": [
       "Empty DataFrame\n",
       "Columns: [Label, Text, DocName, DocType, cleanText, Length]\n",
       "Index: []"
      ]
     },
     "execution_count": 6,
     "metadata": {},
     "output_type": "execute_result"
    }
   ],
   "source": [
    "df1[df1['Length']<1]"
   ]
  },
  {
   "cell_type": "code",
   "execution_count": 8,
   "metadata": {},
   "outputs": [
    {
     "data": {
      "text/plain": [
       "42    2\n",
       "28    1\n",
       "90    4\n",
       "68    3\n",
       "71    3\n",
       "31    1\n",
       "98    5\n",
       "96    5\n",
       "16    0\n",
       "61    3\n",
       "Name: category_id, dtype: int64"
      ]
     },
     "execution_count": 8,
     "metadata": {},
     "output_type": "execute_result"
    }
   ],
   "source": [
    "df1['category_id']=df1['Label'].factorize()[0]\n",
    "#use the .sample method of your dataframe to sample all rows without replacement:\n",
    "# The frac keyword argument specifies the fraction of rows to return in the random sample, so frac=1 means return all rows (in random order).\n",
    "# to shuffle your dataframe in-place and reset the index, you could do e.g. df = df.sample(frac=1).reset_index(drop=True)\n",
    "df1['category_id'].sample(frac=1)[0:10]"
   ]
  },
  {
   "cell_type": "code",
   "execution_count": 9,
   "metadata": {},
   "outputs": [],
   "source": [
    "# Create a new pandas dataframe \"category_id_df\", which only has unique Labels, also sorting this list in order of category_id values\n",
    " \n",
    "category_id_df = df1[['Label', 'category_id']].drop_duplicates().sort_values('category_id')\n",
    "# Create a dictionary ( python datastructure - like a lookup table) that \n",
    "# can easily convert category names into category_ids and vice-versa\n",
    "category_to_id = dict(category_id_df.values)\n",
    "id_to_category = dict(category_id_df[['category_id', 'Label']].values)"
   ]
  },
  {
   "cell_type": "code",
   "execution_count": 11,
   "metadata": {},
   "outputs": [
    {
     "data": {
      "text/html": [
       "<div>\n",
       "<style scoped>\n",
       "    .dataframe tbody tr th:only-of-type {\n",
       "        vertical-align: middle;\n",
       "    }\n",
       "\n",
       "    .dataframe tbody tr th {\n",
       "        vertical-align: top;\n",
       "    }\n",
       "\n",
       "    .dataframe thead th {\n",
       "        text-align: right;\n",
       "    }\n",
       "</style>\n",
       "<table border=\"1\" class=\"dataframe\">\n",
       "  <thead>\n",
       "    <tr style=\"text-align: right;\">\n",
       "      <th></th>\n",
       "      <th>Label</th>\n",
       "      <th>Text</th>\n",
       "      <th>DocName</th>\n",
       "      <th>DocType</th>\n",
       "      <th>cleanText</th>\n",
       "      <th>Length</th>\n",
       "      <th>category_id</th>\n",
       "    </tr>\n",
       "  </thead>\n",
       "  <tbody>\n",
       "    <tr>\n",
       "      <th>0</th>\n",
       "      <td>Claims</td>\n",
       "      <td>Adjudication  Match Referrals to Claims  Certa...</td>\n",
       "      <td>Adjudication.docx</td>\n",
       "      <td>Word</td>\n",
       "      <td>adjudication match referrals claims certain se...</td>\n",
       "      <td>49095</td>\n",
       "      <td>0</td>\n",
       "    </tr>\n",
       "    <tr>\n",
       "      <th>1</th>\n",
       "      <td>Claims</td>\n",
       "      <td>ALW_CHG_AMT at Claim Line Level =WDA_PRIMARY_A...</td>\n",
       "      <td>APCD Claims Calculation.docx</td>\n",
       "      <td>Word</td>\n",
       "      <td>alwchgamt claim line level wdaprimaryallowedam...</td>\n",
       "      <td>5481</td>\n",
       "      <td>0</td>\n",
       "    </tr>\n",
       "    <tr>\n",
       "      <th>2</th>\n",
       "      <td>Claims</td>\n",
       "      <td>Region NW Mandated APCD in place? Yes Voluntar...</td>\n",
       "      <td>APCD Questions.pptx</td>\n",
       "      <td>powerpoint</td>\n",
       "      <td>region nw mandated apcd place yes voluntary ap...</td>\n",
       "      <td>4057</td>\n",
       "      <td>0</td>\n",
       "    </tr>\n",
       "    <tr>\n",
       "      <th>3</th>\n",
       "      <td>Claims</td>\n",
       "      <td>APCD (All Payer Claims Database)  Overview  Th...</td>\n",
       "      <td>apcd-KPWA.docx</td>\n",
       "      <td>Word</td>\n",
       "      <td>apcd payer claims database overview washington...</td>\n",
       "      <td>2916</td>\n",
       "      <td>0</td>\n",
       "    </tr>\n",
       "    <tr>\n",
       "      <th>4</th>\n",
       "      <td>Claims</td>\n",
       "      <td>Claims Data Warehouse\u000b",
       "CDW 101 Module\u000b",
       "How to Pi...</td>\n",
       "      <td>CDW 101 How to Pick Tables.pptx</td>\n",
       "      <td>powerpoint</td>\n",
       "      <td>claims data warehouse cdw module pick views de...</td>\n",
       "      <td>2468</td>\n",
       "      <td>0</td>\n",
       "    </tr>\n",
       "  </tbody>\n",
       "</table>\n",
       "</div>"
      ],
      "text/plain": [
       "    Label                                               Text  \\\n",
       "0  Claims  Adjudication  Match Referrals to Claims  Certa...   \n",
       "1  Claims  ALW_CHG_AMT at Claim Line Level =WDA_PRIMARY_A...   \n",
       "2  Claims  Region NW Mandated APCD in place? Yes Voluntar...   \n",
       "3  Claims  APCD (All Payer Claims Database)  Overview  Th...   \n",
       "4  Claims  Claims Data Warehouse\n",
       "CDW 101 Module\n",
       "How to Pi...   \n",
       "\n",
       "                           DocName     DocType  \\\n",
       "0                Adjudication.docx        Word   \n",
       "1     APCD Claims Calculation.docx        Word   \n",
       "2              APCD Questions.pptx  powerpoint   \n",
       "3                   apcd-KPWA.docx        Word   \n",
       "4  CDW 101 How to Pick Tables.pptx  powerpoint   \n",
       "\n",
       "                                           cleanText  Length  category_id  \n",
       "0  adjudication match referrals claims certain se...   49095            0  \n",
       "1  alwchgamt claim line level wdaprimaryallowedam...    5481            0  \n",
       "2  region nw mandated apcd place yes voluntary ap...    4057            0  \n",
       "3  apcd payer claims database overview washington...    2916            0  \n",
       "4  claims data warehouse cdw module pick views de...    2468            0  "
      ]
     },
     "execution_count": 11,
     "metadata": {},
     "output_type": "execute_result"
    }
   ],
   "source": [
    "df1.head()"
   ]
  },
  {
   "cell_type": "code",
   "execution_count": 12,
   "metadata": {},
   "outputs": [],
   "source": [
    "from sklearn.feature_extraction.text import TfidfVectorizer\n",
    "\n",
    "tfidf = TfidfVectorizer(sublinear_tf=True, min_df=6, norm='l2', encoding='latin-1', ngram_range=(1, 2), stop_words='english')\n",
    "\n",
    "features = tfidf.fit_transform(df1.cleanText).toarray() # Remaps the words in the 1490 articles in the text column of \n",
    "                                                  # data frame into features (superset of words) with an importance assigned \n",
    "                                                  # based on each words frequency in the document and across documents\n",
    "\n",
    "labels = df1.category_id    "
   ]
  },
  {
   "cell_type": "code",
   "execution_count": 52,
   "metadata": {},
   "outputs": [],
   "source": [
    "import numpy as np\n",
    "\n",
    "from sklearn.manifold import TSNE\n",
    "\n",
    "# We will use the entire dataset as it is small \n",
    "# Sampling a subset of our dataset because t-SNE is computationally expensive\n",
    "\n",
    "SAMPLE_SIZE = int(len(features))\n",
    "\n",
    "np.random.seed(0)\n",
    "indices = np.random.choice(range(len(features)), size=SAMPLE_SIZE, replace=False)          # Randomly select 30 % of samples\n",
    "projected_features = TSNE(n_components=2, random_state=0).fit_transform(features[indices]) # Array of all projected features of 30% of Randomly chosen samples"
   ]
  },
  {
   "cell_type": "code",
   "execution_count": 53,
   "metadata": {},
   "outputs": [
    {
     "data": {
      "text/plain": [
       "<matplotlib.legend.Legend at 0x1615d6699b0>"
      ]
     },
     "execution_count": 53,
     "metadata": {},
     "output_type": "execute_result"
    },
    {
     "data": {
      "image/png": "[encoded data removed]",
      "text/plain": [
       "<Figure size 432x288 with 1 Axes>"
      ]
     },
     "metadata": {
      "needs_background": "light"
     },
     "output_type": "display_data"
    }
   ],
   "source": [
    "\n",
    "import matplotlib.pyplot as plt\n",
    "\n",
    "colors = ['red', 'green', 'midnightblue', 'orange', 'darkgrey','magenta']\n",
    "\n",
    "# Find points belonging to each category and plot them\n",
    "# s is the size of each point\n",
    "for category, category_id in sorted(category_to_id.items()):\n",
    "    points = projected_features[(labels[indices] == category_id).values]\n",
    "    plt.scatter(points[:, 0], points[:, 1], s=25, c=colors[category_id], label=category)\n",
    "\n",
    "plt.title(\"T-SNF> tf-idf feature vector for each article, projected on 2 dimensions.\",\n",
    "          fontdict=dict(fontsize=15))\n",
    "#plt.figure(figsize=(1,1))\n",
    "\n",
    "plt.legend(loc='best',edgecolor=None,frameon=None)\n",
    "\n",
    "#legend(bbox_to_anchor=(1,0), loc=\"lower right\",  bbox_transform=fig.transFigure)\n",
    "\n",
    "#plt.plot()"
   ]
  },
  {
   "cell_type": "code",
   "execution_count": 54,
   "metadata": {},
   "outputs": [
    {
     "data": {
      "text/plain": [
       "<matplotlib.legend.Legend at 0x1615d63bf28>"
      ]
     },
     "execution_count": 54,
     "metadata": {},
     "output_type": "execute_result"
    },
    {
     "data": {
      "image/png": "[encoded data removed]",
      "text/plain": [
       "<Figure size 432x288 with 1 Axes>"
      ]
     },
     "metadata": {
      "needs_background": "light"
     },
     "output_type": "display_data"
    }
   ],
   "source": [
    "from sklearn.decomposition import PCA\n",
    "\n",
    "projected_features = PCA(n_components=2, random_state=0).fit_transform(features[indices]) # Array of all projected features of 30% of Randomly chosen samples\n",
    "colors = ['red', 'green', 'midnightblue', 'orange', 'darkgrey','magenta']\n",
    "\n",
    "# Find points belonging to each category and plot them\n",
    "for category, category_id in sorted(category_to_id.items()):\n",
    "    points = projected_features[(labels[indices] == category_id).values]\n",
    "    plt.scatter(points[:, 0], points[:, 1], s=30, c=colors[category_id], label=category)\n",
    "plt.title(\"PCA > tf-idf feature vector for each article, projected on 2 dimensions.\",\n",
    "          fontdict=dict(fontsize=15))\n",
    "plt.legend()"
   ]
  },
  {
   "cell_type": "code",
   "execution_count": 59,
   "metadata": {},
   "outputs": [],
   "source": [
    "#export dataset to csv\n",
    "from pandas import DataFrame\n",
    "df = DataFrame(df1, columns= ['Label', 'category_id','cleanText','Length','DocName','DocType'])\n",
    "df.to_csv ('KP_dataset.csv', index = False, header=True)"
   ]
  }
 ],
 "metadata": {
  "kernelspec": {
   "display_name": "Python 3",
   "language": "python",
   "name": "python3"
  },
  "language_info": {
   "codemirror_mode": {
    "name": "ipython",
    "version": 3
   },
   "file_extension": ".py",
   "mimetype": "text/x-python",
   "name": "python",
   "nbconvert_exporter": "python",
   "pygments_lexer": "ipython3",
   "version": "3.7.3"
  }
 },
 "nbformat": 4,
 "nbformat_minor": 2
}
