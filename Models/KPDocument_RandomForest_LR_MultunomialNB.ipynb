{
  "nbformat": 4,
  "nbformat_minor": 0,
  "metadata": {
    "colab": {
      "name": "KPDocument_RandomForest_LR_MultunomialNB.ipynb",
      "provenance": [],
      "collapsed_sections": []
    },
    "kernelspec": {
      "name": "python3",
      "display_name": "Python 3"
    }
  },
  "cells": [
    {
      "cell_type": "code",
      "metadata": {
        "id": "I0gHaA_F2xox",
        "colab_type": "code",
        "colab": {
          "base_uri": "https://localhost:8080/",
          "height": 35
        },
        "outputId": "989a21a6-8d94-47ed-ea20-69f5ec300706"
      },
      "source": [
        "from google.colab import drive\n",
        "drive.mount('/content/drive')"
      ],
      "execution_count": 1,
      "outputs": [
        {
          "output_type": "stream",
          "text": [
            "Drive already mounted at /content/drive; to attempt to forcibly remount, call drive.mount(\"/content/drive\", force_remount=True).\n"
          ],
          "name": "stdout"
        }
      ]
    },
    {
      "cell_type": "code",
      "metadata": {
        "id": "CP7e4S6_4c08",
        "colab_type": "code",
        "colab": {}
      },
      "source": [
        "import pandas as pd\n",
        "df = pd.read_csv('/content/drive/My Drive/Text_Classification/KP_dataset_df_current.csv')"
      ],
      "execution_count": 2,
      "outputs": []
    },
    {
      "cell_type": "code",
      "metadata": {
        "id": "g-0bZqmLAS-X",
        "colab_type": "code",
        "colab": {}
      },
      "source": [
        "from sklearn.model_selection import train_test_split\n",
        "import numpy as np\n",
        "from tensorflow import keras\n",
        "layers = keras.layers\n",
        "models = keras.models\n",
        "from sklearn.preprocessing import LabelBinarizer, LabelEncoder\n",
        "from sklearn.metrics import confusion_matrix\n",
        "%matplotlib inline\n",
        "import matplotlib.pyplot as plt\n",
        "\n",
        "import itertools\n",
        "from sklearn.metrics import accuracy_score, confusion_matrix\n",
        "from sklearn.metrics import classification_report"
      ],
      "execution_count": 3,
      "outputs": []
    },
    {
      "cell_type": "code",
      "metadata": {
        "id": "RcA7UcTh7UYL",
        "colab_type": "code",
        "colab": {}
      },
      "source": [
        "# Create a new pandas dataframe \"category_id_df\", which only has unique Categories, also sorting this list in order of category_id values\n",
        " \n",
        "category_id_df = df[['Label', 'category_id']].drop_duplicates().sort_values('category_id')\n",
        "\n"
      ],
      "execution_count": 4,
      "outputs": []
    },
    {
      "cell_type": "code",
      "metadata": {
        "id": "ybTDSimNJeqh",
        "colab_type": "code",
        "colab": {}
      },
      "source": [
        "# Create a dictionary ( python datastructure - like a lookup table) that \n",
        "# can easily convert category names into category_ids and vice-versa\n",
        "category_to_id = dict(category_id_df.values)\n",
        "id_to_category = dict(category_id_df[['category_id', 'Label']].values)"
      ],
      "execution_count": 5,
      "outputs": []
    },
    {
      "cell_type": "code",
      "metadata": {
        "id": "HAGUWIBKJjUb",
        "colab_type": "code",
        "colab": {}
      },
      "source": [
        "target_names=list(id_to_category.values())"
      ],
      "execution_count": 6,
      "outputs": []
    },
    {
      "cell_type": "code",
      "metadata": {
        "id": "nt47ur2wJmEf",
        "colab_type": "code",
        "colab": {
          "base_uri": "https://localhost:8080/",
          "height": 123
        },
        "outputId": "7fb964fb-94f8-421f-a6a6-8530d4021f99"
      },
      "source": [
        "category_to_id"
      ],
      "execution_count": 7,
      "outputs": [
        {
          "output_type": "execute_result",
          "data": {
            "text/plain": [
              "{'Claims': 0,\n",
              " 'HealthCareDelivery': 1,\n",
              " 'Membership': 2,\n",
              " 'Pharmacy': 3,\n",
              " 'ProductandBenefits': 4,\n",
              " 'ProviderandNetwork': 5}"
            ]
          },
          "metadata": {
            "tags": []
          },
          "execution_count": 7
        }
      ]
    },
    {
      "cell_type": "code",
      "metadata": {
        "id": "R0CauhIWJtfe",
        "colab_type": "code",
        "colab": {}
      },
      "source": [
        "# sublinear_df is set to True to use a logarithmic form for frequency\n",
        "from sklearn.feature_extraction.text import TfidfVectorizer\n",
        "\n",
        "tfidf = TfidfVectorizer(sublinear_tf=True, min_df=5, norm='l2', encoding='latin-1', ngram_range=(1, 2), stop_words='english')\n",
        "\n",
        "features = tfidf.fit_transform(df.LemmatizedcleanText).toarray() \n",
        "\n",
        "labels = df.category_id                           # represents the category of each of the documents"
      ],
      "execution_count": 8,
      "outputs": []
    },
    {
      "cell_type": "code",
      "metadata": {
        "id": "kKO9jgidJ5fh",
        "colab_type": "code",
        "colab": {
          "base_uri": "https://localhost:8080/",
          "height": 35
        },
        "outputId": "09769dcc-d5fa-409f-ca3d-cdf53152a572"
      },
      "source": [
        "features.shape"
      ],
      "execution_count": 9,
      "outputs": [
        {
          "output_type": "execute_result",
          "data": {
            "text/plain": [
              "(141, 4107)"
            ]
          },
          "metadata": {
            "tags": []
          },
          "execution_count": 9
        }
      ]
    },
    {
      "cell_type": "markdown",
      "metadata": {
        "id": "D-rcHAH1KEOt",
        "colab_type": "text"
      },
      "source": [
        "Model Training and Evaluation We will try 3 different classification models on the data : Logistic Regression RandomForestClassifier MultinomialNB ( Naive Bayes)"
      ]
    },
    {
      "cell_type": "code",
      "metadata": {
        "id": "35Z_myW8J88t",
        "colab_type": "code",
        "colab": {}
      },
      "source": [
        "from sklearn.linear_model import LogisticRegression\n",
        "from sklearn.ensemble import RandomForestClassifier\n",
        "from sklearn.naive_bayes import MultinomialNB\n",
        "\n",
        "from sklearn.model_selection import cross_val_score"
      ],
      "execution_count": 10,
      "outputs": []
    },
    {
      "cell_type": "code",
      "metadata": {
        "id": "NzL8-mVcKHgc",
        "colab_type": "code",
        "colab": {}
      },
      "source": [
        "models = [\n",
        "    RandomForestClassifier(n_estimators=200, max_depth=3, random_state=0),\n",
        "    MultinomialNB(),\n",
        "    LogisticRegression(random_state=0,solver='liblinear',multi_class='ovr'), #default behaior to change in 0.22 version solver='lbfgs', multi_class='auto'\n",
        "    \n",
        "]"
      ],
      "execution_count": 11,
      "outputs": []
    },
    {
      "cell_type": "code",
      "metadata": {
        "id": "5i6YrXgkKJ-i",
        "colab_type": "code",
        "colab": {}
      },
      "source": [
        "CV = 5  # Cross Validate with 5 different folds of 20% data ( 80-20 split with 5 folds )\n",
        "\n",
        "#Create a data frame that will store the results for all 5 trials of the 3 different models\n",
        "cv_df = pd.DataFrame(index=range(CV * len(models)))\n",
        "entries = [] # Initially all entries are empty"
      ],
      "execution_count": 12,
      "outputs": []
    },
    {
      "cell_type": "markdown",
      "metadata": {
        "id": "G5yo3nE7KQ2_",
        "colab_type": "text"
      },
      "source": [
        "Run each Algorithm 5 times and store accuracy results in \"entries\""
      ]
    },
    {
      "cell_type": "code",
      "metadata": {
        "id": "q92HA7w4KM2R",
        "colab_type": "code",
        "colab": {}
      },
      "source": [
        "#For each Algorithm \n",
        "for model in models:\n",
        "  model_name = model.__class__.__name__\n",
        "  # create 5 models with different 20% test sets, and store their accuracies\n",
        "  accuracies = cross_val_score(model, features, labels, scoring='accuracy', cv=CV)\n",
        "  # Append all 5 accuracies into the entries list ( after all 3 models are run, there will be 3x5 = 15 entries)\n",
        "  for fold_idx, accuracy in enumerate(accuracies):\n",
        "    entries.append((model_name, fold_idx, accuracy))"
      ],
      "execution_count": 13,
      "outputs": []
    },
    {
      "cell_type": "code",
      "metadata": {
        "id": "388oOFFHKU_L",
        "colab_type": "code",
        "colab": {}
      },
      "source": [
        "# Store the entries into the results dataframe and name its columns    \n",
        "cv_df = pd.DataFrame(entries, columns=['model_name', 'fold_idx', 'accuracy'])"
      ],
      "execution_count": 14,
      "outputs": []
    },
    {
      "cell_type": "code",
      "metadata": {
        "id": "JhBfWW0tKX84",
        "colab_type": "code",
        "colab": {
          "base_uri": "https://localhost:8080/",
          "height": 354
        },
        "outputId": "fa3464a7-b169-467f-9495-ee145620252e"
      },
      "source": [
        "import seaborn as sns\n",
        "\n",
        "sns.boxplot(x='model_name', y='accuracy', data=cv_df)\n",
        "sns.stripplot(x='model_name', y='accuracy', data=cv_df, \n",
        "              size=8, jitter=True, edgecolor=\"gray\", linewidth=2)"
      ],
      "execution_count": 15,
      "outputs": [
        {
          "output_type": "stream",
          "text": [
            "/usr/local/lib/python3.6/dist-packages/statsmodels/tools/_testing.py:19: FutureWarning: pandas.util.testing is deprecated. Use the functions in the public API at pandas.testing instead.\n",
            "  import pandas.util.testing as tm\n"
          ],
          "name": "stderr"
        },
        {
          "output_type": "execute_result",
          "data": {
            "text/plain": [
              "<matplotlib.axes._subplots.AxesSubplot at 0x7f176e1b24a8>"
            ]
          },
          "metadata": {
            "tags": []
          },
          "execution_count": 15
        },
        {
          "output_type": "display_data",
          "data": {
            "image/png": "[encoded data removed]",
            "text/plain": [
              "<Figure size 432x288 with 1 Axes>"
            ]
          },
          "metadata": {
            "tags": [],
            "needs_background": "light"
          }
        }
      ]
    },
    {
      "cell_type": "code",
      "metadata": {
        "id": "pqPcqDVtKd01",
        "colab_type": "code",
        "colab": {
          "base_uri": "https://localhost:8080/",
          "height": 105
        },
        "outputId": "dff02a43-2ce2-4a5f-f32d-4f472f6162d5"
      },
      "source": [
        "# Mean accuracy of each algorithm\n",
        "cv_df.groupby('model_name').accuracy.mean()"
      ],
      "execution_count": 16,
      "outputs": [
        {
          "output_type": "execute_result",
          "data": {
            "text/plain": [
              "model_name\n",
              "LogisticRegression        0.687685\n",
              "MultinomialNB             0.567488\n",
              "RandomForestClassifier    0.482266\n",
              "Name: accuracy, dtype: float64"
            ]
          },
          "metadata": {
            "tags": []
          },
          "execution_count": 16
        }
      ]
    },
    {
      "cell_type": "code",
      "metadata": {
        "id": "xYUI92UFLcIW",
        "colab_type": "code",
        "colab": {
          "base_uri": "https://localhost:8080/",
          "height": 158
        },
        "outputId": "ef450a78-06b6-487b-f1eb-7e1cb2c0b57b"
      },
      "source": [
        "list(df)"
      ],
      "execution_count": 17,
      "outputs": [
        {
          "output_type": "execute_result",
          "data": {
            "text/plain": [
              "['Label',\n",
              " 'Text',\n",
              " 'category_id',\n",
              " 'cleanText',\n",
              " 'LemmatizedcleanText',\n",
              " 'stemmedcleanText',\n",
              " 'DocName',\n",
              " 'DocType']"
            ]
          },
          "metadata": {
            "tags": []
          },
          "execution_count": 17
        }
      ]
    },
    {
      "cell_type": "code",
      "metadata": {
        "id": "EFVTR8y5LRvo",
        "colab_type": "code",
        "colab": {}
      },
      "source": [
        "from sklearn.feature_extraction.text import TfidfVectorizer\n",
        "vectorizer = TfidfVectorizer()\n",
        "matrix = vectorizer.fit_transform(df['LemmatizedcleanText']).toarray()\n",
        "tfidf_df = pd.DataFrame(matrix, columns=vectorizer.get_feature_names())"
      ],
      "execution_count": 18,
      "outputs": []
    },
    {
      "cell_type": "code",
      "metadata": {
        "id": "d28nTGJnLtDx",
        "colab_type": "code",
        "colab": {}
      },
      "source": [
        "#feature addition\n",
        "tfidf_df['text']=df['LemmatizedcleanText'].values"
      ],
      "execution_count": 19,
      "outputs": []
    },
    {
      "cell_type": "code",
      "metadata": {
        "id": "H4TsyfRGLwx7",
        "colab_type": "code",
        "colab": {}
      },
      "source": [
        "tfidf_df['totalwords'] = tfidf_df['text'].str.split().str.len()"
      ],
      "execution_count": 20,
      "outputs": []
    },
    {
      "cell_type": "code",
      "metadata": {
        "id": "C-EsTeozL4Kh",
        "colab_type": "code",
        "colab": {}
      },
      "source": [
        "columns_drop = ['text','totalwords']\n",
        "X_features = tfidf_df.drop(columns_drop,axis=1)"
      ],
      "execution_count": 21,
      "outputs": []
    },
    {
      "cell_type": "code",
      "metadata": {
        "id": "sSYDpnWlKtUL",
        "colab_type": "code",
        "colab": {}
      },
      "source": [
        "#Splitting the data\n",
        "from sklearn.model_selection import train_test_split\n",
        "X_train, X_test, y_train, y_test = train_test_split(X_features, df['category_id'], test_size=0.2)"
      ],
      "execution_count": 22,
      "outputs": []
    },
    {
      "cell_type": "code",
      "metadata": {
        "id": "ca4TpNpAKtfr",
        "colab_type": "code",
        "colab": {}
      },
      "source": [
        "#Using Randomforest\n",
        "from sklearn.ensemble import RandomForestClassifier\n",
        "\n",
        "rf = RandomForestClassifier(n_estimators=50, max_depth=20, n_jobs=-1)\n",
        "rf_model = rf.fit(X_train, y_train)#Using Randomforest"
      ],
      "execution_count": 23,
      "outputs": []
    },
    {
      "cell_type": "code",
      "metadata": {
        "id": "-F4eimRzL-_Y",
        "colab_type": "code",
        "colab": {
          "base_uri": "https://localhost:8080/",
          "height": 193
        },
        "outputId": "d81fa615-284a-4709-8c39-69e7e101834f"
      },
      "source": [
        "#Print feature importance\n",
        "sorted(zip(rf_model.feature_importances_, X_train.columns), reverse=True)[0:10]"
      ],
      "execution_count": 24,
      "outputs": [
        {
          "output_type": "execute_result",
          "data": {
            "text/plain": [
              "[(0.01836020578519466, 'claim'),\n",
              " (0.008394969644985267, 'provider'),\n",
              " (0.007128390993448471, 'benefit'),\n",
              " (0.006588196427980195, 'membership'),\n",
              " (0.006584307979541633, 'plan'),\n",
              " (0.006360827911788741, 'coverage'),\n",
              " (0.006247916880466398, 'patient'),\n",
              " (0.005825237077256935, 'record'),\n",
              " (0.005654504915871714, 'demographic'),\n",
              " (0.004931911223881908, 'pay')]"
            ]
          },
          "metadata": {
            "tags": []
          },
          "execution_count": 24
        }
      ]
    },
    {
      "cell_type": "code",
      "metadata": {
        "id": "kO8nTZfaKx7d",
        "colab_type": "code",
        "colab": {
          "base_uri": "https://localhost:8080/",
          "height": 35
        },
        "outputId": "1ece135a-acf8-4469-e307-6bd819ebfcef"
      },
      "source": [
        "y_pred = rf_model.predict(X_test)\n",
        "\n",
        "from sklearn.metrics import precision_recall_fscore_support as score\n",
        "precision, recall, fscore, support = score(y_test, y_pred,)\n",
        "print('Precision: {} / Recall: {} / Accuracy: {}'.format(precision,\n",
        "                                                        recall,\n",
        "                                                        round((y_pred==y_test).sum() / len(y_pred),3)))"
      ],
      "execution_count": 25,
      "outputs": [
        {
          "output_type": "stream",
          "text": [
            "Precision: [1.         0.66666667 0.33333333 1.         0.45454545 1.        ] / Recall: [0.66666667 0.5        0.66666667 0.66666667 0.625      0.6       ] / Accuracy: 0.621\n"
          ],
          "name": "stdout"
        }
      ]
    },
    {
      "cell_type": "code",
      "metadata": {
        "id": "0DZ3FIzkKgt2",
        "colab_type": "code",
        "colab": {
          "base_uri": "https://localhost:8080/",
          "height": 319
        },
        "outputId": "afdee0e0-c3fa-452b-e8a4-f4ee3468cd33"
      },
      "source": [
        "#GridsearchCV to find best parameters\n",
        "from sklearn.metrics import precision_recall_fscore_support as score\n",
        "def train_RF(n_est, depth):\n",
        "    rf = RandomForestClassifier(n_estimators=n_est, max_depth=depth, n_jobs=-1)\n",
        "    rf_model = rf.fit(X_train, y_train)\n",
        "    y_pred = rf_model.predict(X_test)\n",
        "    precision, recall, fscore, support = score(y_test, y_pred)\n",
        "    print('Est: {} / Depth: {} ---- Precision: {} / Recall: {} / Accuracy: {}'.format(\n",
        "        n_est, depth, precision, recall,\n",
        "        round((y_pred==y_test).sum() / len(y_pred), 3)))\n",
        "    \n",
        "for n_est in [10, 50, 100,150]:\n",
        "    for depth in [10, 20, 30, None]:\n",
        "        train_RF(n_est, depth) "
      ],
      "execution_count": 26,
      "outputs": [
        {
          "output_type": "stream",
          "text": [
            "Est: 10 / Depth: 10 ---- Precision: [0.66666667 0.5        0.4        0.8        0.45454545 1.        ] / Recall: [0.66666667 0.25       0.66666667 0.66666667 0.625      0.6       ] / Accuracy: 0.586\n",
            "Est: 10 / Depth: 20 ---- Precision: [0.42857143 0.25       0.5        0.5        0.45454545 1.        ] / Recall: [1.         0.25       0.66666667 0.16666667 0.625      0.2       ] / Accuracy: 0.448\n",
            "Est: 10 / Depth: 30 ---- Precision: [0.33333333 0.33333333 0.33333333 0.66666667 0.41666667 0.        ] / Recall: [0.33333333 0.25       0.66666667 0.33333333 0.625      0.        ] / Accuracy: 0.379\n",
            "Est: 10 / Depth: None ---- Precision: [0.5        1.         0.42857143 0.83333333 0.66666667 0.66666667] / Recall: [0.33333333 0.5        1.         0.83333333 0.75       0.4       ] / Accuracy: 0.655\n",
            "Est: 50 / Depth: 10 ---- Precision: [0.66666667 0.66666667 0.5        0.75       0.5        0.66666667] / Recall: [0.66666667 0.5        0.66666667 0.5        0.75       0.4       ] / Accuracy: 0.586\n",
            "Est: 50 / Depth: 20 ---- Precision: [1.         0.5        0.33333333 0.75       0.46153846 1.        ] / Recall: [0.66666667 0.25       0.66666667 0.5        0.75       0.4       ] / Accuracy: 0.552\n",
            "Est: 50 / Depth: 30 ---- Precision: [0.4        0.66666667 0.5        1.         0.45454545 0.66666667] / Recall: [0.66666667 0.5        0.66666667 0.5        0.625      0.4       ] / Accuracy: 0.552\n",
            "Est: 50 / Depth: None ---- Precision: [0.66666667 0.25       0.75       0.6        0.5        1.        ] / Recall: [0.66666667 0.25       1.         0.5        0.75       0.2       ] / Accuracy: 0.552\n",
            "Est: 100 / Depth: 10 ---- Precision: [0.66666667 0.66666667 1.         0.75       0.4        0.5       ] / Recall: [0.66666667 0.5        0.66666667 0.5        0.75       0.2       ] / Accuracy: 0.552\n",
            "Est: 100 / Depth: 20 ---- Precision: [1.         0.66666667 0.5        1.         0.46666667 1.        ] / Recall: [0.66666667 0.5        0.66666667 0.66666667 0.875      0.2       ] / Accuracy: 0.621\n",
            "Est: 100 / Depth: 30 ---- Precision: [1.         0.66666667 0.5        0.75       0.5        1.        ] / Recall: [0.66666667 0.5        0.66666667 0.5        0.875      0.4       ] / Accuracy: 0.621\n",
            "Est: 100 / Depth: None ---- Precision: [1.         0.66666667 0.4        1.         0.54545455 0.75      ] / Recall: [0.66666667 0.5        0.66666667 0.66666667 0.75       0.6       ] / Accuracy: 0.655\n",
            "Est: 150 / Depth: 10 ---- Precision: [1.         0.66666667 1.         0.75       0.42857143 0.75      ] / Recall: [0.66666667 0.5        0.66666667 0.5        0.75       0.6       ] / Accuracy: 0.621\n",
            "Est: 150 / Depth: 20 ---- Precision: [1.         0.66666667 0.66666667 0.8        0.46666667 1.        ] / Recall: [0.66666667 0.5        0.66666667 0.66666667 0.875      0.2       ] / Accuracy: 0.621\n",
            "Est: 150 / Depth: 30 ---- Precision: [1.         0.66666667 0.66666667 0.8        0.42857143 0.5       ] / Recall: [0.66666667 0.5        0.66666667 0.66666667 0.75       0.2       ] / Accuracy: 0.586\n",
            "Est: 150 / Depth: None ---- Precision: [1.         0.66666667 0.5        0.8        0.46153846 0.5       ] / Recall: [0.66666667 0.5        0.66666667 0.66666667 0.75       0.2       ] / Accuracy: 0.586\n"
          ],
          "name": "stdout"
        }
      ]
    },
    {
      "cell_type": "code",
      "metadata": {
        "id": "iBSNsansMQHJ",
        "colab_type": "code",
        "colab": {
          "base_uri": "https://localhost:8080/",
          "height": 246
        },
        "outputId": "5c6b3c53-ce49-4db8-bfb4-8967e7bc3f8a"
      },
      "source": [
        "from sklearn.metrics import classification_report, accuracy_score\n",
        "print (classification_report(y_test, y_pred,target_names=target_names))"
      ],
      "execution_count": 27,
      "outputs": [
        {
          "output_type": "stream",
          "text": [
            "                    precision    recall  f1-score   support\n",
            "\n",
            "            Claims       1.00      0.67      0.80         3\n",
            "HealthCareDelivery       0.67      0.50      0.57         4\n",
            "        Membership       0.33      0.67      0.44         3\n",
            "          Pharmacy       1.00      0.67      0.80         6\n",
            "ProductandBenefits       0.45      0.62      0.53         8\n",
            "ProviderandNetwork       1.00      0.60      0.75         5\n",
            "\n",
            "          accuracy                           0.62        29\n",
            "         macro avg       0.74      0.62      0.65        29\n",
            "      weighted avg       0.73      0.62      0.65        29\n",
            "\n"
          ],
          "name": "stdout"
        }
      ]
    },
    {
      "cell_type": "code",
      "metadata": {
        "id": "Ojj7zc5BMVm-",
        "colab_type": "code",
        "colab": {
          "base_uri": "https://localhost:8080/",
          "height": 158
        },
        "outputId": "424f91cd-4d47-4470-a296-6b76c4867fb4"
      },
      "source": [
        "rf_model"
      ],
      "execution_count": 28,
      "outputs": [
        {
          "output_type": "execute_result",
          "data": {
            "text/plain": [
              "RandomForestClassifier(bootstrap=True, ccp_alpha=0.0, class_weight=None,\n",
              "                       criterion='gini', max_depth=20, max_features='auto',\n",
              "                       max_leaf_nodes=None, max_samples=None,\n",
              "                       min_impurity_decrease=0.0, min_impurity_split=None,\n",
              "                       min_samples_leaf=1, min_samples_split=2,\n",
              "                       min_weight_fraction_leaf=0.0, n_estimators=50, n_jobs=-1,\n",
              "                       oob_score=False, random_state=None, verbose=0,\n",
              "                       warm_start=False)"
            ]
          },
          "metadata": {
            "tags": []
          },
          "execution_count": 28
        }
      ]
    },
    {
      "cell_type": "code",
      "metadata": {
        "id": "IBxJjr4Z1shl",
        "colab_type": "code",
        "colab": {}
      },
      "source": [
        "# Run MultinomailNB with training data (without k-folds as used earlier)\n",
        "clf = MultinomialNB().fit(X_train, y_train)"
      ],
      "execution_count": 29,
      "outputs": []
    },
    {
      "cell_type": "code",
      "metadata": {
        "id": "eVs20UPh1xHq",
        "colab_type": "code",
        "colab": {}
      },
      "source": [
        "y_pred= clf.predict(X_test)"
      ],
      "execution_count": 30,
      "outputs": []
    },
    {
      "cell_type": "code",
      "metadata": {
        "id": "iSDBDVC410tp",
        "colab_type": "code",
        "colab": {
          "base_uri": "https://localhost:8080/",
          "height": 246
        },
        "outputId": "9591b757-1347-4a21-d417-62807f843094"
      },
      "source": [
        "print (classification_report(y_test, y_pred,target_names=target_names))"
      ],
      "execution_count": 31,
      "outputs": [
        {
          "output_type": "stream",
          "text": [
            "                    precision    recall  f1-score   support\n",
            "\n",
            "            Claims       1.00      0.67      0.80         3\n",
            "HealthCareDelivery       1.00      0.50      0.67         4\n",
            "        Membership       0.67      0.67      0.67         3\n",
            "          Pharmacy       1.00      1.00      1.00         6\n",
            "ProductandBenefits       0.47      0.88      0.61         8\n",
            "ProviderandNetwork       1.00      0.20      0.33         5\n",
            "\n",
            "          accuracy                           0.69        29\n",
            "         macro avg       0.86      0.65      0.68        29\n",
            "      weighted avg       0.82      0.69      0.68        29\n",
            "\n"
          ],
          "name": "stdout"
        }
      ]
    },
    {
      "cell_type": "code",
      "metadata": {
        "id": "ygTYBgSk5GKh",
        "colab_type": "code",
        "colab": {}
      },
      "source": [
        ""
      ],
      "execution_count": 31,
      "outputs": []
    }
  ]
}