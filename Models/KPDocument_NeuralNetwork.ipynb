{
  "nbformat": 4,
  "nbformat_minor": 0,
  "metadata": {
    "colab": {
      "name": "KPDocument_NeuralNetwork.ipynb",
      "provenance": [],
      "collapsed_sections": []
    },
    "kernelspec": {
      "name": "python3",
      "display_name": "Python 3"
    },
    "accelerator": "GPU"
  },
  "cells": [
    {
      "cell_type": "code",
      "metadata": {
        "id": "I0gHaA_F2xox",
        "colab_type": "code",
        "colab": {
          "base_uri": "https://localhost:8080/",
          "height": 35
        },
        "outputId": "cc6c1b83-9252-4ea3-a636-5a7823afddd3"
      },
      "source": [
        "from google.colab import drive\n",
        "drive.mount('/content/drive')"
      ],
      "execution_count": 1,
      "outputs": [
        {
          "output_type": "stream",
          "text": [
            "Drive already mounted at /content/drive; to attempt to forcibly remount, call drive.mount(\"/content/drive\", force_remount=True).\n"
          ],
          "name": "stdout"
        }
      ]
    },
    {
      "cell_type": "code",
      "metadata": {
        "id": "CP7e4S6_4c08",
        "colab_type": "code",
        "colab": {}
      },
      "source": [
        "import pandas as pd\n",
        "df = pd.read_csv('/content/drive/My Drive/Text_Classification/KP_dataset_df_current.csv')"
      ],
      "execution_count": 2,
      "outputs": []
    },
    {
      "cell_type": "code",
      "metadata": {
        "id": "g-0bZqmLAS-X",
        "colab_type": "code",
        "colab": {}
      },
      "source": [
        "from sklearn.model_selection import train_test_split\n",
        "import numpy as np\n",
        "from tensorflow import keras\n",
        "from tensorflow.keras import backend, models, layers, regularizers\n",
        "from tensorflow.keras.callbacks import EarlyStopping\n",
        "from tensorflow.keras.optimizers import Adam, SGD\n",
        "layers = keras.layers\n",
        "models = keras.models\n",
        "\n",
        "from sklearn.preprocessing import LabelBinarizer, LabelEncoder # Used for encoding Labels\n",
        "from sklearn.metrics import confusion_matrix\n",
        "%matplotlib inline\n",
        "import matplotlib.pyplot as plt\n",
        "\n",
        "import itertools\n",
        "from sklearn.metrics import accuracy_score, confusion_matrix\n",
        "from sklearn.metrics import classification_report"
      ],
      "execution_count": 3,
      "outputs": []
    },
    {
      "cell_type": "code",
      "metadata": {
        "id": "zoIj56QQ6x4g",
        "colab_type": "code",
        "colab": {
          "base_uri": "https://localhost:8080/",
          "height": 890
        },
        "outputId": "9be9c2fb-2942-4355-8970-4e475e8037a8"
      },
      "source": [
        "train, test = train_test_split(df, test_size=0.2, random_state = 42)\n",
        "\n",
        "train_cat=train['category_id']\n",
        "test_cat=test['category_id']\n",
        "train_text=train['LemmatizedcleanText']\n",
        "test_text=test['LemmatizedcleanText']\n",
        "\n",
        "max_words=10000\n",
        "\n",
        "tokenize = keras.preprocessing.text.Tokenizer(num_words=max_words,char_level=False, oov_token='unknown')\n",
        "\n",
        "tokenize.fit_on_texts(train_text) # fit tokenizer to our training text data\n",
        "x_train = tokenize.texts_to_matrix(train_text)\n",
        "x_test = tokenize.texts_to_matrix(test_text)\n",
        "\n",
        "word_index = tokenize.word_index\n",
        "#dict(list(word_index.items())[0:10])\n",
        "\n",
        "# Use sklearn utility to convert label strings to numbered index\n",
        "encoder = LabelEncoder()\n",
        "encoder.fit(train_cat)\n",
        "y_train = encoder.transform(train_cat)\n",
        "y_test = encoder.transform(test_cat)\n",
        "\n",
        "# Converts the labels to a one-hot representation\n",
        "num_classes = np.max(y_train) + 1\n",
        "y_train = keras.utils.to_categorical(y_train, num_classes)\n",
        "y_test = keras.utils.to_categorical(y_test, num_classes)\n",
        "\n",
        "# Edit epoch for best results\n",
        "# Training for more epochs will likely lead to overfitting on this dataset\n",
        "\n",
        "batch_size = 64\n",
        "epochs = 50\n",
        "drop_ratio = 0.3\n",
        "\n",
        "# Build the model\n",
        "model = models.Sequential()\n",
        "model.add(layers.Dense(512, input_shape=(max_words,)))\n",
        "model.add(layers.Activation('relu'))\n",
        "model.add(layers.Dropout(drop_ratio))\n",
        "model.add(layers.Dense(512,kernel_regularizer = regularizers.l1(0.00001)))\n",
        "model.add(layers.Dense(num_classes))\n",
        "model.add(layers.Activation('softmax'))\n",
        "#optimizerA=Adam(lr=0.00001)\n",
        "model.compile(loss='categorical_crossentropy',\n",
        "              optimizer='adam',\n",
        "              metrics=['accuracy'])\n",
        "\n",
        "# model.fit trains the model\n",
        "# The validation_split param tells Keras what % of our training data should be used in the validation set\n",
        "# You can see the validation loss decreasing slowly when you run this\n",
        "# Because val_loss is no longer decreasing we stop training to prevent overfitting\n",
        "history = model.fit(x_train, y_train,\n",
        "                    batch_size=batch_size,\n",
        "                    epochs=epochs,\n",
        "                    verbose=1,\n",
        "                    validation_split=0.1,\n",
        "                    callbacks = [EarlyStopping(monitor='accuracy', patience = 5, restore_best_weights=True)])\n",
        "\n",
        "history_dict = history.history\n",
        "loss_values = history_dict['loss']\n",
        "val_loss_values = history_dict['val_loss']\n",
        "acc_values = history_dict['accuracy']\n",
        "val_acc_values = history_dict['val_accuracy']\n",
        "epochs = range(1, len(history_dict['accuracy']) + 1)\n",
        "\n",
        "plt.plot(epochs, loss_values, 'bo', label = 'Training loss')\n",
        "plt.plot(epochs, val_loss_values, 'b', label = 'Validation loss')\n",
        "plt.title('Training and validation loss')\n",
        "plt.xlabel('Epochs')\n",
        "plt.ylabel('Loss')\n",
        "plt.legend()\n",
        "plt.show()\n",
        "\n",
        "plt.plot(epochs, acc_values, 'bo', label = 'Training accuracy')\n",
        "plt.plot(epochs, val_acc_values, 'b', label = 'Validation accuracy')\n",
        "plt.title('Training and validation accuracy')\n",
        "plt.xlabel('Epochs')\n",
        "plt.ylabel('Accuracy')\n",
        "plt.legend()\n",
        "plt.show()\n",
        "\n"
      ],
      "execution_count": 4,
      "outputs": [
        {
          "output_type": "stream",
          "text": [
            "Epoch 1/50\n",
            "2/2 [==============================] - 0s 89ms/step - loss: 1.9120 - accuracy: 0.1600 - val_loss: 1.8519 - val_accuracy: 0.4167\n",
            "Epoch 2/50\n",
            "2/2 [==============================] - 0s 22ms/step - loss: 0.8180 - accuracy: 0.9400 - val_loss: 1.7389 - val_accuracy: 0.5000\n",
            "Epoch 3/50\n",
            "2/2 [==============================] - 0s 17ms/step - loss: 0.4433 - accuracy: 0.9800 - val_loss: 1.0852 - val_accuracy: 0.7500\n",
            "Epoch 4/50\n",
            "2/2 [==============================] - 0s 18ms/step - loss: 0.2774 - accuracy: 1.0000 - val_loss: 0.7696 - val_accuracy: 0.9167\n",
            "Epoch 5/50\n",
            "2/2 [==============================] - 0s 10ms/step - loss: 0.2111 - accuracy: 1.0000 - val_loss: 0.7574 - val_accuracy: 0.8333\n",
            "Epoch 6/50\n",
            "2/2 [==============================] - 0s 10ms/step - loss: 0.1739 - accuracy: 1.0000 - val_loss: 0.8613 - val_accuracy: 0.8333\n",
            "Epoch 7/50\n",
            "2/2 [==============================] - 0s 11ms/step - loss: 0.1595 - accuracy: 1.0000 - val_loss: 0.9451 - val_accuracy: 0.8333\n",
            "Epoch 8/50\n",
            "2/2 [==============================] - 0s 10ms/step - loss: 0.1458 - accuracy: 1.0000 - val_loss: 0.9763 - val_accuracy: 0.8333\n",
            "Epoch 9/50\n",
            "2/2 [==============================] - 0s 13ms/step - loss: 0.1393 - accuracy: 1.0000 - val_loss: 1.0249 - val_accuracy: 0.8333\n"
          ],
          "name": "stdout"
        },
        {
          "output_type": "display_data",
          "data": {
            "image/png": "[encoded data removed]",
            "text/plain": [
              "<Figure size 432x288 with 1 Axes>"
            ]
          },
          "metadata": {
            "tags": [],
            "needs_background": "light"
          }
        },
        {
          "output_type": "display_data",
          "data": {
            "image/png": "[encoded data removed]",
            "text/plain": [
              "<Figure size 432x288 with 1 Axes>"
            ]
          },
          "metadata": {
            "tags": [],
            "needs_background": "light"
          }
        }
      ]
    },
    {
      "cell_type": "code",
      "metadata": {
        "id": "Rc9l14Cy-uq0",
        "colab_type": "code",
        "colab": {
          "base_uri": "https://localhost:8080/",
          "height": 70
        },
        "outputId": "021c3984-766d-4591-e232-d812faf707cb"
      },
      "source": [
        "# Evaluate the accuracy of our trained model\n",
        "score = model.evaluate(x_test, y_test,batch_size=32, verbose=1)\n",
        "print('Test loss:', score[0])\n",
        "print('Test accuracy:', score[1])"
      ],
      "execution_count": 5,
      "outputs": [
        {
          "output_type": "stream",
          "text": [
            "1/1 [==============================] - 0s 2ms/step - loss: 1.1430 - accuracy: 0.7241\n",
            "Test loss: 1.1430081129074097\n",
            "Test accuracy: 0.7241379022598267\n"
          ],
          "name": "stdout"
        }
      ]
    },
    {
      "cell_type": "code",
      "metadata": {
        "id": "f_bCFvYOFxPG",
        "colab_type": "code",
        "colab": {
          "base_uri": "https://localhost:8080/",
          "height": 1000
        },
        "outputId": "7f842e73-7565-4ddc-da27-35a554d94df2"
      },
      "source": [
        "y_softmax = model.predict(x_test)\n",
        "\n",
        "y_test_1d = []\n",
        "y_pred_1d = []\n",
        "\n",
        "for i in range(len(y_test)):\n",
        "    probs = y_test[i]\n",
        "    index_arr = np.nonzero(probs)\n",
        "    one_hot_index = index_arr[0].item(0)\n",
        "    y_test_1d.append(one_hot_index)\n",
        "\n",
        "for i in range(0, len(y_softmax)):\n",
        "    probs = y_softmax[i]\n",
        "    predicted_index = np.argmax(probs)\n",
        "    y_pred_1d.append(predicted_index)\n",
        "\n",
        "def plot_confusion_matrix(cm, classes,\n",
        "                          title='Confusion matrix',\n",
        "                          cmap=plt.cm.Blues,normalize=False\n",
        "                         ):\n",
        "    \"\"\"\n",
        "    This function prints and plots the confusion matrix.\n",
        "    Normalization can be applied by setting `normalize=True`.\n",
        "    \"\"\"\n",
        "    plt.imshow(cm, interpolation='nearest', cmap=cmap)\n",
        "    plt.title(title)\n",
        "    plt.colorbar()\n",
        "    tick_marks = np.arange(len(classes))\n",
        "    plt.xticks(tick_marks, classes, rotation=45)\n",
        "    plt.yticks(tick_marks, classes)\n",
        "\n",
        "    if normalize:\n",
        "        cm = cm.astype('float') / cm.sum(axis=1)[:, np.newaxis]\n",
        "        print(\"Normalized confusion matrix\")\n",
        "    else:\n",
        "        print('Confusion matrix, without normalization')\n",
        "\n",
        "    print(cm)\n",
        "\n",
        "    thresh = cm.max() / 2.\n",
        "    for i, j in itertools.product(range(cm.shape[0]), range(cm.shape[1])):\n",
        "        plt.text(j, i, cm[i, j],\n",
        "                 horizontalalignment=\"center\",\n",
        "                 color=\"white\" if cm[i, j] > thresh else \"black\")\n",
        "\n",
        "    plt.tight_layout()\n",
        "    #plt.xlim(-0.5, len(np.unique(y))-0.5)\n",
        "    #plt.ylim(len(np.unique(y))-0.5, -0.5)\n",
        "    plt.ylabel('True label')\n",
        "    plt.xlabel('Predicted label')\n",
        "\n",
        "# Here's how to generate a prediction on individual examples\n",
        "text_labels = encoder.classes_ \n",
        "\n",
        "cnf_matrix = confusion_matrix(y_test_1d, y_pred_1d)\n",
        "plt.figure(figsize=(15,15))\n",
        "plt.ylim(-0.5, 4.5)\n",
        "plot_confusion_matrix(cnf_matrix, classes=text_labels, title=\"Confusion matrix without normalization\",normalize=False)\n",
        "plt.show()"
      ],
      "execution_count": 6,
      "outputs": [
        {
          "output_type": "stream",
          "text": [
            "Confusion matrix, without normalization\n",
            "[[2 1 1 0 0 0]\n",
            " [0 3 0 0 0 0]\n",
            " [0 1 3 0 0 0]\n",
            " [0 1 0 3 0 0]\n",
            " [0 0 0 1 9 0]\n",
            " [2 0 1 0 0 1]]\n"
          ],
          "name": "stdout"
        },
        {
          "output_type": "display_data",
          "data": {
            "image/png": "[encoded data removed]",
            "text/plain": [
              "<Figure size 1080x1080 with 2 Axes>"
            ]
          },
          "metadata": {
            "tags": [],
            "needs_background": "light"
          }
        }
      ]
    },
    {
      "cell_type": "code",
      "metadata": {
        "id": "Hq47CNaGAgA8",
        "colab_type": "code",
        "colab": {}
      },
      "source": [
        "# Create a new pandas dataframe \"category_id_df\", which only has unique Categories, also sorting this list in order of category_id values\n",
        " \n",
        "category_id_df = df[['Label', 'category_id']].drop_duplicates().sort_values('category_id')\n",
        "# Create a dictionary ( python datastructure - like a lookup table) that \n",
        "# can easily convert category names into category_ids and vice-versa\n",
        "category_to_id = dict(category_id_df.values)\n",
        "id_to_category = dict(category_id_df[['category_id', 'Label']].values)"
      ],
      "execution_count": 8,
      "outputs": []
    },
    {
      "cell_type": "code",
      "metadata": {
        "id": "N_4B7vyHGzQP",
        "colab_type": "code",
        "colab": {
          "base_uri": "https://localhost:8080/",
          "height": 263
        },
        "outputId": "8096814c-219b-4827-d78d-66d5922b213e"
      },
      "source": [
        "print('accuracy %s' % accuracy_score(y_pred_1d, y_test_1d))\n",
        "\n",
        "print(classification_report(y_test_1d, y_pred_1d,target_names=list(id_to_category.values())))\n"
      ],
      "execution_count": 9,
      "outputs": [
        {
          "output_type": "stream",
          "text": [
            "accuracy 0.7241379310344828\n",
            "                    precision    recall  f1-score   support\n",
            "\n",
            "            Claims       0.50      0.50      0.50         4\n",
            "HealthCareDelivery       0.50      1.00      0.67         3\n",
            "        Membership       0.60      0.75      0.67         4\n",
            "          Pharmacy       0.75      0.75      0.75         4\n",
            "ProductandBenefits       1.00      0.90      0.95        10\n",
            "ProviderandNetwork       1.00      0.25      0.40         4\n",
            "\n",
            "          accuracy                           0.72        29\n",
            "         macro avg       0.72      0.69      0.66        29\n",
            "      weighted avg       0.79      0.72      0.72        29\n",
            "\n"
          ],
          "name": "stdout"
        }
      ]
    }
  ]
}