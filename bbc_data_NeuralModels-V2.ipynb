{
 "cells": [
  {
   "cell_type": "code",
   "execution_count": 2,
   "metadata": {},
   "outputs": [
    {
     "name": "stdout",
     "output_type": "stream",
     "text": [
      "C:\\Practicuum Project 2\\BBCTextClassification\\data\n"
     ]
    }
   ],
   "source": [
    "# Change working directory to C://Practicuum Project 2//BBCTextClassification\n",
    "import os\n",
    "os.chdir('C://Practicuum Project 2//BBCTextClassification/data')\n",
    "print(os.getcwd())"
   ]
  },
  {
   "cell_type": "code",
   "execution_count": 3,
   "metadata": {},
   "outputs": [],
   "source": [
    "# load the dataset \n",
    "\n",
    "import numpy as np\n",
    "import pandas as pd\n",
    "\n",
    "bbc_data=pd.read_csv('bbc-text.csv', ',')"
   ]
  },
  {
   "cell_type": "code",
   "execution_count": 4,
   "metadata": {},
   "outputs": [
    {
     "data": {
      "text/html": [
       "<div>\n",
       "<style scoped>\n",
       "    .dataframe tbody tr th:only-of-type {\n",
       "        vertical-align: middle;\n",
       "    }\n",
       "\n",
       "    .dataframe tbody tr th {\n",
       "        vertical-align: top;\n",
       "    }\n",
       "\n",
       "    .dataframe thead th {\n",
       "        text-align: right;\n",
       "    }\n",
       "</style>\n",
       "<table border=\"1\" class=\"dataframe\">\n",
       "  <thead>\n",
       "    <tr style=\"text-align: right;\">\n",
       "      <th></th>\n",
       "      <th>category</th>\n",
       "      <th>text</th>\n",
       "    </tr>\n",
       "  </thead>\n",
       "  <tbody>\n",
       "    <tr>\n",
       "      <td>0</td>\n",
       "      <td>tech</td>\n",
       "      <td>tv future in the hands of viewers with home th...</td>\n",
       "    </tr>\n",
       "    <tr>\n",
       "      <td>1</td>\n",
       "      <td>business</td>\n",
       "      <td>worldcom boss  left books alone  former worldc...</td>\n",
       "    </tr>\n",
       "    <tr>\n",
       "      <td>2</td>\n",
       "      <td>sport</td>\n",
       "      <td>tigers wary of farrell  gamble  leicester say ...</td>\n",
       "    </tr>\n",
       "    <tr>\n",
       "      <td>3</td>\n",
       "      <td>sport</td>\n",
       "      <td>yeading face newcastle in fa cup premiership s...</td>\n",
       "    </tr>\n",
       "    <tr>\n",
       "      <td>4</td>\n",
       "      <td>entertainment</td>\n",
       "      <td>ocean s twelve raids box office ocean s twelve...</td>\n",
       "    </tr>\n",
       "  </tbody>\n",
       "</table>\n",
       "</div>"
      ],
      "text/plain": [
       "        category                                               text\n",
       "0           tech  tv future in the hands of viewers with home th...\n",
       "1       business  worldcom boss  left books alone  former worldc...\n",
       "2          sport  tigers wary of farrell  gamble  leicester say ...\n",
       "3          sport  yeading face newcastle in fa cup premiership s...\n",
       "4  entertainment  ocean s twelve raids box office ocean s twelve..."
      ]
     },
     "execution_count": 4,
     "metadata": {},
     "output_type": "execute_result"
    }
   ],
   "source": [
    "bbc_data.head()"
   ]
  },
  {
   "cell_type": "code",
   "execution_count": 5,
   "metadata": {},
   "outputs": [
    {
     "data": {
      "text/plain": [
       "sport            511\n",
       "business         510\n",
       "politics         417\n",
       "tech             401\n",
       "entertainment    386\n",
       "Name: category, dtype: int64"
      ]
     },
     "execution_count": 5,
     "metadata": {},
     "output_type": "execute_result"
    }
   ],
   "source": [
    "bbc_data['category'].value_counts()"
   ]
  },
  {
   "cell_type": "code",
   "execution_count": 6,
   "metadata": {},
   "outputs": [
    {
     "name": "stdout",
     "output_type": "stream",
     "text": [
      "Train size: 1780\n",
      "Test size: 445\n"
     ]
    }
   ],
   "source": [
    "train_size = int(len(bbc_data) * .8)\n",
    "print (\"Train size: %d\" % train_size)\n",
    "print (\"Test size: %d\" % (len(bbc_data) - train_size))"
   ]
  },
  {
   "cell_type": "markdown",
   "metadata": {},
   "source": [
    "Data preparation\n",
    "There's some work to be done in order for our data to be ready for training.\n",
    "\n",
    "First we'll split the data into training and test sets.\n",
    "Then we'll tokenize the words (text), and then convert them to a numbered index.\n",
    "Next we'll do the same for the labels (categories), by using the LabelEncoder utility.\n",
    "Finally, we'll convert the labels to a one-hot representation."
   ]
  },
  {
   "cell_type": "code",
   "execution_count": 8,
   "metadata": {},
   "outputs": [],
   "source": [
    "def train_test_split(data, train_size):\n",
    "    train = bbc_data[:train_size]\n",
    "    test = bbc_data[train_size:]\n",
    "    return train, test\n",
    "\n",
    "train, test = train_test_split(bbc_data, train_size)\n",
    "\n",
    "train_cat=train['category']\n",
    "test_cat=test['category']\n",
    "train_text=train['text']\n",
    "test_text=test['text']"
   ]
  },
  {
   "cell_type": "code",
   "execution_count": 9,
   "metadata": {},
   "outputs": [],
   "source": [
    "from tensorflow import keras\n",
    "layers = keras.layers\n",
    "models = keras.models"
   ]
  },
  {
   "cell_type": "code",
   "execution_count": 16,
   "metadata": {},
   "outputs": [],
   "source": [
    "max_words = 5000\n",
    "tokenize = keras.preprocessing.text.Tokenizer(num_words=max_words,char_level=False)"
   ]
  },
  {
   "cell_type": "code",
   "execution_count": 17,
   "metadata": {},
   "outputs": [],
   "source": [
    "tokenize.fit_on_texts(train_text) # fit tokenizer to our training text data\n",
    "x_train = tokenize.texts_to_matrix(train_text)\n",
    "x_test = tokenize.texts_to_matrix(test_text)"
   ]
  },
  {
   "cell_type": "code",
   "execution_count": 18,
   "metadata": {},
   "outputs": [
    {
     "data": {
      "text/plain": [
       "array([[0., 1., 1., ..., 0., 0., 0.],\n",
       "       [0., 1., 1., ..., 0., 0., 0.],\n",
       "       [0., 1., 1., ..., 0., 0., 0.],\n",
       "       ...,\n",
       "       [0., 1., 1., ..., 0., 0., 0.],\n",
       "       [0., 1., 1., ..., 0., 0., 0.],\n",
       "       [0., 1., 1., ..., 0., 0., 0.]])"
      ]
     },
     "execution_count": 18,
     "metadata": {},
     "output_type": "execute_result"
    }
   ],
   "source": [
    "x_train"
   ]
  },
  {
   "cell_type": "code",
   "execution_count": 20,
   "metadata": {},
   "outputs": [
    {
     "data": {
      "text/plain": [
       "{'the': 1,\n",
       " 'to': 2,\n",
       " 'of': 3,\n",
       " 'and': 4,\n",
       " 'a': 5,\n",
       " 'in': 6,\n",
       " 's': 7,\n",
       " 'for': 8,\n",
       " 'is': 9,\n",
       " 'that': 10}"
      ]
     },
     "execution_count": 20,
     "metadata": {},
     "output_type": "execute_result"
    }
   ],
   "source": [
    "#tokenizer = keras.preprocessing.text.Tokenizer(num_words=max_words, char_level=False)\n",
    "#tokenizer.fit_on_texts(train_text)\n",
    "word_index = tokenize.word_index\n",
    "dict(list(word_index.items())[0:10])"
   ]
  },
  {
   "cell_type": "markdown",
   "metadata": {},
   "source": [
    "All the top words are stop words. Hence these should be removed"
   ]
  },
  {
   "cell_type": "code",
   "execution_count": 21,
   "metadata": {},
   "outputs": [],
   "source": [
    "# Import stopwords with nltk.\n",
    "from nltk.corpus import stopwords\n",
    "stop = stopwords.words('english')"
   ]
  },
  {
   "cell_type": "code",
   "execution_count": 22,
   "metadata": {},
   "outputs": [
    {
     "name": "stdout",
     "output_type": "stream",
     "text": [
      "        category                                               text  \\\n",
      "0           tech  tv future in the hands of viewers with home th...   \n",
      "1       business  worldcom boss  left books alone  former worldc...   \n",
      "2          sport  tigers wary of farrell  gamble  leicester say ...   \n",
      "3          sport  yeading face newcastle in fa cup premiership s...   \n",
      "4  entertainment  ocean s twelve raids box office ocean s twelve...   \n",
      "\n",
      "                              text_without_stopwords  \n",
      "0  tv future hands viewers home theatre systems p...  \n",
      "1  worldcom boss left books alone former worldcom...  \n",
      "2  tigers wary farrell gamble leicester say rushe...  \n",
      "3  yeading face newcastle fa cup premiership side...  \n",
      "4  ocean twelve raids box office ocean twelve cri...  \n"
     ]
    }
   ],
   "source": [
    "# Exclude stopwords with Python's list comprehension and pandas.DataFrame.apply.\n",
    "bbc_data['text_without_stopwords'] = bbc_data['text'].apply(lambda x: ' '.join([word for word in x.split() if word not in (stop)]))\n",
    "print(bbc_data.head())"
   ]
  },
  {
   "cell_type": "code",
   "execution_count": 23,
   "metadata": {},
   "outputs": [],
   "source": [
    "bbc_data['text_without_stopwords'] = bbc_data['text_without_stopwords'] .str.lower()"
   ]
  },
  {
   "cell_type": "code",
   "execution_count": 26,
   "metadata": {},
   "outputs": [],
   "source": [
    "#from nltk.stem import PorterStemmer\n",
    "#stemming = PorterStemmer()\n",
    "\n",
    "from nltk.stem.snowball import SnowballStemmer\n",
    "\n",
    "# Use English stemmer.\n",
    "stemming = SnowballStemmer(\"english\")\n"
   ]
  },
  {
   "cell_type": "code",
   "execution_count": 20,
   "metadata": {},
   "outputs": [],
   "source": [
    "bbc_data['text_with_stemming']= [stemming.stem(word) for word in bbc_data['text_without_stopwords']]\n",
    "\n",
    "bbc_data['text_with_stemming']= bbc_data['text_without_stopwords'].apply(lambda x: ''.join([stemmer.stem(y) for y in x])) # Stem every word.\n",
    "\n"
   ]
  },
  {
   "cell_type": "code",
   "execution_count": 27,
   "metadata": {},
   "outputs": [],
   "source": [
    "def stem_sentences(sentence):\n",
    "    tokens = sentence.split()\n",
    "    #stemmed_tokens = [porter_stemmer.stem(token) for token in tokens]\n",
    "    stemmed_tokens = [stemming.stem(token) for token in tokens]\n",
    "    return ' '.join(stemmed_tokens)\n",
    "\n",
    "bbc_data['text_with_stemming']= bbc_data['text_without_stopwords'].apply(stem_sentences)"
   ]
  },
  {
   "cell_type": "code",
   "execution_count": 28,
   "metadata": {},
   "outputs": [
    {
     "data": {
      "text/plain": [
       "'tv future hands viewers home theatre systems plasma high-definition tvs digital video recorders moving living room way people watch tv radically different five years time. according expert panel gathered annual consumer electronics show las vegas discuss new technologies impact one favourite pastimes. us leading trend programmes content delivered viewers via home networks cable satellite telecoms companies broadband service providers front rooms portable devices. one talked-about technologies ces digital personal video recorders (dvr pvr). set-top boxes like us tivo uk sky+ system allow people record store play pause forward wind tv programmes want. essentially technology allows much personalised tv. also built-in high-definition tv sets big business japan us slower take europe lack high-definition programming. people forward wind adverts also forget abiding network channel schedules putting together a-la-carte entertainment. us networks cable satellite companies worried means terms advertising revenues well brand identity viewer loyalty channels. although us leads technology moment also concern raised europe particularly growing uptake services like sky+. happens today see nine months years time uk adam hume bbc broadcast futurologist told bbc news website. likes bbc issues lost advertising revenue yet. pressing issue moment commercial uk broadcasters brand loyalty important everyone. talking content brands rather network brands said tim hanlon brand communications firm starcom mediavest. reality broadband connections anybody producer content. added: challenge hard promote programme much choice. means said stacey jolna senior vice president tv guide tv group way people find content want watch simplified tv viewers. means networks us terms channels could take leaf google book search engine future instead scheduler help people find want watch. kind channel model might work younger ipod generation used taking control gadgets play them. might suit everyone panel recognised. older generations comfortable familiar schedules channel brands know getting. perhaps want much choice put hands mr hanlon suggested. end kids diapers pushing buttons already - everything possible available said mr hanlon. ultimately consumer tell market want. 50 000 new gadgets technologies showcased ces many enhancing tv-watching experience. high-definition tv sets everywhere many new models lcd (liquid crystal display) tvs launched dvr capability built instead external boxes. one example launched show humax 26-inch lcd tv 80-hour tivo dvr dvd recorder. one us biggest satellite tv companies directtv even launched branded dvr show 100-hours recording capability instant replay search function. set pause rewind tv 90 hours. microsoft chief bill gates announced pre-show keynote speech partnership tivo called tivotogo means people play recorded programmes windows pcs mobile devices. reflect increasing trend freeing multimedia people watch want want.'"
      ]
     },
     "execution_count": 28,
     "metadata": {},
     "output_type": "execute_result"
    }
   ],
   "source": [
    "bbc_data['text_without_stopwords'][0]"
   ]
  },
  {
   "cell_type": "code",
   "execution_count": 29,
   "metadata": {},
   "outputs": [
    {
     "data": {
      "text/plain": [
       "'tv futur hand viewer home theatr system plasma high-definit tvs digit video record move live room way peopl watch tv radic differ five year time. accord expert panel gather annual consum electron show las vega discuss new technolog impact one favourit pastimes. us lead trend programm content deliv viewer via home network cabl satellit telecom compani broadband servic provid front room portabl devices. one talked-about technolog ces digit person video record (dvr pvr). set-top box like us tivo uk sky+ system allow peopl record store play paus forward wind tv programm want. essenti technolog allow much personalis tv. also built-in high-definit tv set big busi japan us slower take europ lack high-definit programming. peopl forward wind advert also forget abid network channel schedul put togeth a-la-cart entertainment. us network cabl satellit compani worri mean term advertis revenu well brand ident viewer loyalti channels. although us lead technolog moment also concern rais europ particular grow uptak servic like sky+. happen today see nine month year time uk adam hume bbc broadcast futurologist told bbc news website. like bbc issu lost advertis revenu yet. press issu moment commerci uk broadcast brand loyalti import everyone. talk content brand rather network brand said tim hanlon brand communic firm starcom mediavest. realiti broadband connect anybodi produc content. added: challeng hard promot programm much choice. mean said stacey jolna senior vice presid tv guid tv group way peopl find content want watch simplifi tv viewers. mean network us term channel could take leaf googl book search engin futur instead schedul help peopl find want watch. kind channel model might work younger ipod generat use take control gadget play them. might suit everyon panel recognised. older generat comfort familiar schedul channel brand know getting. perhap want much choic put hand mr hanlon suggested. end kid diaper push button alreadi - everyth possibl avail said mr hanlon. ultim consum tell market want. 50 000 new gadget technolog showcas ces mani enhanc tv-watch experience. high-definit tv set everywher mani new model lcd (liquid crystal display) tvs launch dvr capabl built instead extern boxes. one exampl launch show humax 26-inch lcd tv 80-hour tivo dvr dvd recorder. one us biggest satellit tv compani directtv even launch brand dvr show 100-hour record capabl instant replay search function. set paus rewind tv 90 hours. microsoft chief bill gate announc pre-show keynot speech partnership tivo call tivotogo mean peopl play record programm window pcs mobil devices. reflect increas trend free multimedia peopl watch want want.'"
      ]
     },
     "execution_count": 29,
     "metadata": {},
     "output_type": "execute_result"
    }
   ],
   "source": [
    "bbc_data['text_with_stemming'][0]"
   ]
  },
  {
   "cell_type": "markdown",
   "metadata": {},
   "source": [
    "Some of the words above are not too meaningful"
   ]
  },
  {
   "cell_type": "code",
   "execution_count": 30,
   "metadata": {},
   "outputs": [],
   "source": [
    "def train_test_split(data, train_size):\n",
    "    train = bbc_data[:train_size]\n",
    "    test = bbc_data[train_size:]\n",
    "    return train, test\n",
    "\n",
    "train, test = train_test_split(bbc_data, train_size)\n",
    "\n",
    "train_cat=train['category']\n",
    "test_cat=test['category']\n",
    "train_text=train['text_without_stopwords']\n",
    "#train_text=train['text_with_stemming']\n",
    "test_text=test['text_without_stopwords']\n",
    "#test_text=test['text_with_stemming']"
   ]
  },
  {
   "cell_type": "code",
   "execution_count": 31,
   "metadata": {},
   "outputs": [],
   "source": [
    "max_words=5000"
   ]
  },
  {
   "cell_type": "code",
   "execution_count": 32,
   "metadata": {},
   "outputs": [
    {
     "data": {
      "text/plain": [
       "{'unknown': 4721,\n",
       " 'said': 2,\n",
       " 'mr': 3,\n",
       " 'would': 4,\n",
       " 'year': 5,\n",
       " 'also': 6,\n",
       " 'people': 7,\n",
       " 'new': 8,\n",
       " 'us': 9,\n",
       " 'one': 10}"
      ]
     },
     "execution_count": 32,
     "metadata": {},
     "output_type": "execute_result"
    }
   ],
   "source": [
    "tokenizer = keras.preprocessing.text.Tokenizer(num_words=max_words, \n",
    "                                              char_level=False, oov_token='unknown')\n",
    "tokenizer.fit_on_texts(train_text)\n",
    "word_index = tokenizer.word_index\n",
    "dict(list(word_index.items())[0:10])"
   ]
  },
  {
   "cell_type": "code",
   "execution_count": 33,
   "metadata": {},
   "outputs": [],
   "source": [
    "tokenizer.fit_on_texts(train_text) # fit tokenizer to our training text data\n",
    "x_train = tokenizer.texts_to_matrix(train_text)\n",
    "x_test = tokenizer.texts_to_matrix(test_text)"
   ]
  },
  {
   "cell_type": "code",
   "execution_count": 34,
   "metadata": {},
   "outputs": [],
   "source": [
    "from sklearn.preprocessing import LabelBinarizer, LabelEncoder\n",
    "from sklearn.metrics import confusion_matrix"
   ]
  },
  {
   "cell_type": "code",
   "execution_count": 35,
   "metadata": {},
   "outputs": [],
   "source": [
    "# Use sklearn utility to convert label strings to numbered index\n",
    "encoder = LabelEncoder()\n",
    "encoder.fit(train_cat)\n",
    "y_train = encoder.transform(train_cat)\n",
    "y_test = encoder.transform(test_cat)"
   ]
  },
  {
   "cell_type": "code",
   "execution_count": 36,
   "metadata": {},
   "outputs": [],
   "source": [
    "# Converts the labels to a one-hot representation\n",
    "num_classes = np.max(y_train) + 1\n",
    "y_train = keras.utils.to_categorical(y_train, num_classes)\n",
    "y_test = keras.utils.to_categorical(y_test, num_classes)"
   ]
  },
  {
   "cell_type": "code",
   "execution_count": 37,
   "metadata": {},
   "outputs": [
    {
     "name": "stdout",
     "output_type": "stream",
     "text": [
      "x_train shape: (1780, 5000)\n",
      "x_test shape: (445, 5000)\n",
      "y_train shape: (1780, 5)\n",
      "y_test shape: (445, 5)\n"
     ]
    }
   ],
   "source": [
    "# Inspect the dimensions of our training and test data (this is helpful to debug)\n",
    "print('x_train shape:', x_train.shape)\n",
    "print('x_test shape:', x_test.shape)\n",
    "print('y_train shape:', y_train.shape)\n",
    "print('y_test shape:', y_test.shape)"
   ]
  },
  {
   "cell_type": "markdown",
   "metadata": {},
   "source": [
    "Train the model. \n",
    "Build the model using Keras layers and hyperparameters of your choosing. Then call model.fit()"
   ]
  },
  {
   "cell_type": "code",
   "execution_count": 38,
   "metadata": {},
   "outputs": [],
   "source": [
    "# Edit epoch for best results\n",
    "# Training for more epochs will likely lead to overfitting on this dataset\n",
    "\n",
    "batch_size = 32\n",
    "epochs = 10\n",
    "drop_ratio = 0.5\n"
   ]
  },
  {
   "cell_type": "code",
   "execution_count": 39,
   "metadata": {},
   "outputs": [],
   "source": [
    "# Build the model\n",
    "model = models.Sequential()\n",
    "model.add(layers.Dense(512, input_shape=(max_words,)))\n",
    "model.add(layers.Activation('relu'))\n",
    "# model.add(layers.Dropout(drop_ratio))\n",
    "model.add(layers.Dense(num_classes))\n",
    "model.add(layers.Activation('softmax'))\n",
    "\n",
    "model.compile(loss='categorical_crossentropy',\n",
    "              optimizer='adam',\n",
    "              metrics=['accuracy'])"
   ]
  },
  {
   "cell_type": "code",
   "execution_count": 40,
   "metadata": {},
   "outputs": [
    {
     "name": "stdout",
     "output_type": "stream",
     "text": [
      "Train on 1602 samples, validate on 178 samples\n",
      "Epoch 1/10\n",
      "1602/1602 [==============================] - 1s 848us/sample - loss: 0.3284 - accuracy: 0.9082 - val_loss: 0.0701 - val_accuracy: 0.9831\n",
      "Epoch 2/10\n",
      "1602/1602 [==============================] - 1s 669us/sample - loss: 0.0052 - accuracy: 0.9994 - val_loss: 0.0766 - val_accuracy: 0.9663\n",
      "Epoch 3/10\n",
      "1602/1602 [==============================] - 1s 615us/sample - loss: 0.0018 - accuracy: 1.0000 - val_loss: 0.0666 - val_accuracy: 0.9719\n",
      "Epoch 4/10\n",
      "1602/1602 [==============================] - 1s 636us/sample - loss: 0.0011 - accuracy: 1.0000 - val_loss: 0.0642 - val_accuracy: 0.9719\n",
      "Epoch 5/10\n",
      "1602/1602 [==============================] - 1s 616us/sample - loss: 7.9034e-04 - accuracy: 1.0000 - val_loss: 0.0638 - val_accuracy: 0.9775\n",
      "Epoch 6/10\n",
      "1602/1602 [==============================] - 1s 621us/sample - loss: 6.0130e-04 - accuracy: 1.0000 - val_loss: 0.0638 - val_accuracy: 0.9775\n",
      "Epoch 7/10\n",
      "1602/1602 [==============================] - 1s 635us/sample - loss: 4.7451e-04 - accuracy: 1.0000 - val_loss: 0.0637 - val_accuracy: 0.9775\n",
      "Epoch 8/10\n",
      "1602/1602 [==============================] - 1s 610us/sample - loss: 3.8533e-04 - accuracy: 1.0000 - val_loss: 0.0637 - val_accuracy: 0.9775\n",
      "Epoch 9/10\n",
      "1602/1602 [==============================] - 1s 634us/sample - loss: 3.1938e-04 - accuracy: 1.0000 - val_loss: 0.0638 - val_accuracy: 0.9775\n",
      "Epoch 10/10\n",
      "1602/1602 [==============================] - 1s 636us/sample - loss: 2.6854e-04 - accuracy: 1.0000 - val_loss: 0.0640 - val_accuracy: 0.9775\n"
     ]
    }
   ],
   "source": [
    "# model.fit trains the model\n",
    "# The validation_split param tells Keras what % of our training data should be used in the validation set\n",
    "# You can see the validation loss decreasing slowly when you run this\n",
    "# Because val_loss is no longer decreasing we stop training to prevent overfitting\n",
    "history = model.fit(x_train, y_train,\n",
    "                    batch_size=batch_size,\n",
    "                    epochs=epochs,\n",
    "                    verbose=1,\n",
    "                    validation_split=0.1)"
   ]
  },
  {
   "cell_type": "markdown",
   "metadata": {},
   "source": [
    "Evaluate the model\n",
    "Evaluation is easy. Just call model.evaluate()."
   ]
  },
  {
   "cell_type": "code",
   "execution_count": 41,
   "metadata": {},
   "outputs": [
    {
     "name": "stdout",
     "output_type": "stream",
     "text": [
      "\r",
      "445/1 [======================================================================================================================================================================================================================================================================================================================================================================================================================================================================================================================================================================================================================================================================================================================================================================================================================================================================================================================================================================================================================================================================================================================================================================================================================================================================================================================================================================================================================================================================================================================================================================================================================================================================================================================================================================================================================================================================================================================================================================================================================================================================================================================================================================================================================================================================================================================================================================================================================================================================================================================================================================================================================================================================================================================================================================================================================================================================================================================================================================================================================================================================================================================================================================================================================================================================================================================================================================================================================================================================================================================================================================================================================================================================================================================================================================================================================================================================================================================================================================================================================================================================================================================================================================================================================================================================================================================================================================================================================================================================================================================================================================================================================================================================================================================================================================================================================================================================================================================================================================================================================================================================================================================================================================================================================================================================================================================================================================================================================================================================================================================================================================================================================================================================================================================================================================================================================================================================================================================================================================================================================================================================================================================================================================================================================================================================================================================================================================================================================================================================================================================================================================================================================================================================================================================================================================================================================================================================================================================================================================================================================================================================================================================================================================================================================================================================================================================================================================================================================================================================================================================================================================================================================================================================================================================================================================================================================================================================================================================================================================================================================================================================================================================================================================================================================================================================================================================================================================================================================================================================================================================================================================================================================================================================================================================================================================================================================================================================================================================================================================================================================================================================================================================================================================================================================================================================================================================================================================================================================================================================================================================================================================================================================================================================================================================================================================================================================================================================================================================================================================================================================================================================================================================================================================================================================================================================================================================================================================================================================================================================================================================================================================================================================================================================================================================================================================================================================================================================================================================================================================================================================================================================================================================================================================================================================================================================================================================================================================================================================================================================================================================================================================================================================================================================================================================================================================================================================================================================================================================================================================================================================================================================================================================================================================================================================================================================================================================================================================================================================================================================================================================================================================================================================================================================================================================================================================================================================================================================================================================================================================================================================================================================================================================================================================================================================================================================================================================================================================================================================================================================================================================================================================================================================================================================================================================================================================================================================================================================================================] - 0s 139us/sample - loss: 0.1214 - accuracy: 0.9753\n"
     ]
    },
    {
     "name": "stdout",
     "output_type": "stream",
     "text": [
      "Test loss: 0.0822115318159039\n",
      "Test accuracy: 0.9752809\n"
     ]
    }
   ],
   "source": [
    "# Evaluate the accuracy of our trained model\n",
    "score = model.evaluate(x_test, y_test,\n",
    "                       batch_size=batch_size, verbose=1)\n",
    "print('Test loss:', score[0])\n",
    "print('Test accuracy:', score[1])"
   ]
  },
  {
   "cell_type": "code",
   "execution_count": 42,
   "metadata": {},
   "outputs": [
    {
     "data": {
      "image/png": "[encoded data removed]",
      "text/plain": [
       "<Figure size 432x288 with 1 Axes>"
      ]
     },
     "metadata": {
      "needs_background": "light"
     },
     "output_type": "display_data"
    },
    {
     "data": {
      "image/png": "[encoded data removed]",
      "text/plain": [
       "<Figure size 432x288 with 1 Axes>"
      ]
     },
     "metadata": {
      "needs_background": "light"
     },
     "output_type": "display_data"
    }
   ],
   "source": [
    "%matplotlib inline\n",
    "import matplotlib.pyplot as plt\n",
    "\n",
    "history_dict = history.history\n",
    "loss_values = history_dict['loss']\n",
    "val_loss_values = history_dict['val_loss']\n",
    "acc_values = history_dict['accuracy']\n",
    "val_acc_values = history_dict['val_accuracy']\n",
    "epochs = range(1, len(history_dict['accuracy']) + 1)\n",
    "\n",
    "plt.plot(epochs, loss_values, 'bo', label = 'Training loss')\n",
    "plt.plot(epochs, val_loss_values, 'b', label = 'Validation loss')\n",
    "plt.title('Training and validation loss')\n",
    "plt.xlabel('Epochs')\n",
    "plt.ylabel('Loss')\n",
    "plt.legend()\n",
    "plt.show()\n",
    "\n",
    "plt.plot(epochs, acc_values, 'bo', label = 'Training accuracy')\n",
    "plt.plot(epochs, val_acc_values, 'b', label = 'Validation accuracy')\n",
    "plt.title('Training and validation accuracy')\n",
    "plt.xlabel('Epochs')\n",
    "plt.ylabel('Accuracy')\n",
    "plt.legend()\n",
    "plt.show()\n",
    "\n"
   ]
  },
  {
   "cell_type": "code",
   "execution_count": null,
   "metadata": {},
   "outputs": [],
   "source": [
    "model.compile(loss='sparse_categorical_crossentropy', optimizer='adam', metrics=['accuracy'])\n",
    "num_epochs = 10\n",
    "history = model.fit(train_padded, training_label_seq, epochs=num_epochs, validation_data=(validation_padded, validation_label_seq), verbose=2)"
   ]
  },
  {
   "cell_type": "markdown",
   "metadata": {},
   "source": [
    "Visualize the confusion matrix"
   ]
  },
  {
   "cell_type": "code",
   "execution_count": 46,
   "metadata": {},
   "outputs": [],
   "source": [
    "y_softmax = model.predict(x_test)\n",
    "\n",
    "y_test_1d = []\n",
    "y_pred_1d = []\n",
    "\n",
    "for i in range(len(y_test)):\n",
    "    probs = y_test[i]\n",
    "    index_arr = np.nonzero(probs)\n",
    "    one_hot_index = index_arr[0].item(0)\n",
    "    y_test_1d.append(one_hot_index)\n",
    "\n",
    "for i in range(0, len(y_softmax)):\n",
    "    probs = y_softmax[i]\n",
    "    predicted_index = np.argmax(probs)\n",
    "    y_pred_1d.append(predicted_index)"
   ]
  },
  {
   "cell_type": "code",
   "execution_count": 47,
   "metadata": {},
   "outputs": [],
   "source": [
    "%matplotlib inline\n",
    "import matplotlib.pyplot as plt\n",
    "import itertools"
   ]
  },
  {
   "cell_type": "markdown",
   "metadata": {},
   "source": [
    "Function from https://scikit-learn.org/0.18/auto_examples/model_selection/plot_confusion_matrix.html"
   ]
  },
  {
   "cell_type": "code",
   "execution_count": 48,
   "metadata": {},
   "outputs": [],
   "source": [
    "def plot_confusion_matrix(cm, classes,\n",
    "                          title='Confusion matrix',\n",
    "                          cmap=plt.cm.Blues,normalize=False\n",
    "                         ):\n",
    "    \"\"\"\n",
    "    This function prints and plots the confusion matrix.\n",
    "    Normalization can be applied by setting `normalize=True`.\n",
    "    \"\"\"\n",
    "    plt.imshow(cm, interpolation='nearest', cmap=cmap)\n",
    "    plt.title(title)\n",
    "    plt.colorbar()\n",
    "    tick_marks = np.arange(len(classes))\n",
    "    plt.xticks(tick_marks, classes, rotation=45)\n",
    "    plt.yticks(tick_marks, classes)\n",
    "\n",
    "    if normalize:\n",
    "        cm = cm.astype('float') / cm.sum(axis=1)[:, np.newaxis]\n",
    "        print(\"Normalized confusion matrix\")\n",
    "    else:\n",
    "        print('Confusion matrix, without normalization')\n",
    "\n",
    "    print(cm)\n",
    "\n",
    "    thresh = cm.max() / 2.\n",
    "    for i, j in itertools.product(range(cm.shape[0]), range(cm.shape[1])):\n",
    "        plt.text(j, i, cm[i, j],\n",
    "                 horizontalalignment=\"center\",\n",
    "                 color=\"white\" if cm[i, j] > thresh else \"black\")\n",
    "\n",
    "    plt.tight_layout()\n",
    "    #plt.xlim(-0.5, len(np.unique(y))-0.5)\n",
    "    #plt.ylim(len(np.unique(y))-0.5, -0.5)\n",
    "    plt.ylabel('True label')\n",
    "    plt.xlabel('Predicted label')\n"
   ]
  },
  {
   "cell_type": "code",
   "execution_count": 49,
   "metadata": {},
   "outputs": [],
   "source": [
    "# Here's how to generate a prediction on individual examples\n",
    "text_labels = encoder.classes_ "
   ]
  },
  {
   "cell_type": "code",
   "execution_count": 50,
   "metadata": {},
   "outputs": [
    {
     "name": "stdout",
     "output_type": "stream",
     "text": [
      "Confusion matrix, without normalization\n",
      "[[101   1   3   0   1]\n",
      " [  0  65   0   0   1]\n",
      " [  2   1  82   0   1]\n",
      " [  0   0   0 101   0]\n",
      " [  0   1   0   0  85]]\n"
     ]
    },
    {
     "data": {
      "image/png": "[encoded data removed]",
      "text/plain": [
       "<Figure size 1080x1080 with 2 Axes>"
      ]
     },
     "metadata": {
      "needs_background": "light"
     },
     "output_type": "display_data"
    }
   ],
   "source": [
    "cnf_matrix = confusion_matrix(y_test_1d, y_pred_1d)\n",
    "plt.figure(figsize=(15,15))\n",
    "plt.ylim(-0.5, 4.5)\n",
    "plot_confusion_matrix(cnf_matrix, classes=text_labels, title=\"Confusion matrix without normalization\",normalize=False)\n",
    "plt.show()\n"
   ]
  },
  {
   "cell_type": "markdown",
   "metadata": {},
   "source": [
    "Hyperparamter tuning:\n",
    "In model:\n",
    "epoch, \n",
    "batch size, \n",
    "dropout ratio, \n",
    "network structure, \n",
    "activation function, \n",
    "and others\n",
    "\n",
    "Outside model:\n",
    "reducing the max words of the call to keras.preprocessing.text.Tokenizer. This will reduce the number of words for each input sample, thus making it more challenging to accurately predict the category. \n",
    "The default was up to 1000 words per article. See what happens when you reduce that number to 200 words, or 50 words, or even fewer. \n"
   ]
  },
  {
   "cell_type": "code",
   "execution_count": 51,
   "metadata": {},
   "outputs": [],
   "source": [
    "# Encapulated the model definition and training and evaluation calls into one function call. \n",
    "def run_experiment(batch_size, epochs, drop_ratio):\n",
    "  print('batch size: {}, epochs: {}, drop_ratio: {}'.format(\n",
    "      batch_size, epochs, drop_ratio))\n",
    "  model = models.Sequential()\n",
    "  model.add(layers.Dense(512, input_shape=(max_words,)))\n",
    "  model.add(layers.Activation('relu'))\n",
    "  model.add(layers.Dropout(drop_ratio))\n",
    "  model.add(layers.Dense(num_classes))\n",
    "  model.add(layers.Activation('softmax'))\n",
    "\n",
    "  model.compile(loss='categorical_crossentropy',\n",
    "                optimizer='adam',\n",
    "                metrics=['accuracy'])\n",
    "  history = model.fit(x_train, y_train,\n",
    "                    batch_size=batch_size,\n",
    "                    epochs=epochs,\n",
    "                    verbose=0,\n",
    "                    validation_split=0.1)\n",
    "  score = model.evaluate(x_test, y_test,\n",
    "                       batch_size=batch_size, verbose=0)\n",
    "  print('\\tTest loss:', score[0])\n",
    "  print('\\tTest accuracy:', score[1])"
   ]
  },
  {
   "cell_type": "code",
   "execution_count": 53,
   "metadata": {},
   "outputs": [
    {
     "name": "stdout",
     "output_type": "stream",
     "text": [
      "batch size: 64, epochs: 10, drop_ratio: 0.4\n",
      "\tTest loss: 0.08006379947568594\n",
      "\tTest accuracy: 0.9730337\n"
     ]
    }
   ],
   "source": [
    "batch_size = 64\n",
    "epochs = 10\n",
    "drop_ratio = 0.4\n",
    "run_experiment(batch_size, epochs, drop_ratio)"
   ]
  },
  {
   "cell_type": "code",
   "execution_count": 54,
   "metadata": {},
   "outputs": [
    {
     "name": "stdout",
     "output_type": "stream",
     "text": [
      "batch size: 128, epochs: 10, drop_ratio: 0.4\n",
      "\tTest loss: 0.09010837330911936\n",
      "\tTest accuracy: 0.96629214\n"
     ]
    }
   ],
   "source": [
    "batch_size = 128\n",
    "epochs = 10\n",
    "drop_ratio = 0.4\n",
    "run_experiment(batch_size, epochs, drop_ratio)"
   ]
  },
  {
   "cell_type": "code",
   "execution_count": 56,
   "metadata": {},
   "outputs": [
    {
     "name": "stdout",
     "output_type": "stream",
     "text": [
      "batch size: 64, epochs: 5, drop_ratio: 0.2\n",
      "\tTest loss: 0.0776046239425627\n",
      "\tTest accuracy: 0.9775281\n"
     ]
    }
   ],
   "source": [
    "batch_size = 64\n",
    "epochs = 5\n",
    "drop_ratio = 0.2\n",
    "run_experiment(batch_size, epochs, drop_ratio)"
   ]
  },
  {
   "cell_type": "markdown",
   "metadata": {},
   "source": [
    "Make some predictions on individual examples"
   ]
  },
  {
   "cell_type": "code",
   "execution_count": 57,
   "metadata": {},
   "outputs": [],
   "source": [
    "X_validate=['burnley set sights on signing Southampton 25-yr-old Hasenhuttl may let go. burnley have set their sights on signing Southampton midfielder Harrison Reed after his impressive Fulham loan, Football Insider understands. the 25-year-old has entered the final 12 months of his Saints deal and his future at the club is up in the air. A Burnley source has told Football Insider the club are keeping close tabs on Harrison as they plot a move ahead of the window opening next week. manager sean dyche is an admirer of Reed and has been impressed at how he has flourished in a midfield anchorman role for promotion-chasing Fulham. Reed appears well down the pecking order at Southampton and Ralph Hasenhuttl was happy for him to go out on loan this season. The Saints manager may now be willing to offload him this summer. reed spent the 2018-19 campaign at Blackburn Rovers after spending the previous season at Norwich City. a versatile midfielder who can play centrally or on the right flank, he has made only 30 senior appearances for the Saints since graduating from their academy set-up. reed has made 21 league starts among 25 appearances in all competitions for Fulham this season, in which he has missed a major chunk with a calf injury. the youth international has also been capped 14 times by England at Under-20 level. in other Southampton news, a Liverpool big name has been backed to sign for the Saints.','Progressive Democrat who ousted establishment-backed congressman says hes right in alignment with Biden. Washington a progressive Democrat who ousted a longtime establishment congressman in a New York primary earlier this month said Monday that he is right in alignment with presumptive Democratic presidential nominee Joe Biden, who is running as a moderate Democrat. The comments by Jamaal Bowman, a former middle school principal who defeated House Foreign Affairs Chairman Eliot Engel, underline a recognition by Democrats across the ideological spectrum that avoiding the intra-party fractures that helped sink Hillary Clinton in 2016 will be necessary to beat Donald Trump this November. In this moment we are dealing with the second biggest crisis since the Great Depression. We have to get people back to work, we got to get a handle on this pandemic. And I am right in alignment with Joe Biden in fighting those fights as well as fighting for racial and economic justice in all its forms, Bowman told CNNs John Berman on New Day Monday morning. In particular, Bowman cited a policy platform crafted by allies of Biden and Sen. Bernie Sanders of Vermont that was unveiled earlier this month and represents an effort by the former vice president to include progressive priorities in his general election campaign.','Mick Jagger and Lorde urge politicians to get permission for campaign songs. More than 50 artists signed the open letter, and gave lawmakers a deadline of 10 August for a response Mick Jagger, Lorde, Sia and Blondie are among the artists demanding that US politicians seek permission before playing their songs at rallies. They are among more than 50 acts who have signed an open letter calling for new rules on how their music is used. The letter calls on Democrats and Republicans to \"establish clear policies requiring campaigns to seek consent\" from songwriters and artists. Campaign music has been a heated topic throughout the 2016 and 2020 elections. Artists including Rihanna, Adele, The Rolling Stones, Panic! At The Disco and the estate of Prince have asked the President Trump to stop using their music at his rallies, with some threatening legal action. However, there is some leeway for an artist to complain their image and reputation is being damaged by the repeated use of a song without their express permission. The new letter, organised by the Artist Rights Coalition (ARA), addresses that point in its third paragraph. \"Being dragged unwillingly into politics in this way can compromise an artists personal values while disappointing and alienating fans - with great moral and economic cost,\" it says. ']\n",
    "valid_labels=['sport','politics','entertainment']"
   ]
  },
  {
   "cell_type": "code",
   "execution_count": 58,
   "metadata": {},
   "outputs": [],
   "source": [
    "x_valid = tokenizer.texts_to_matrix(X_validate)\n",
    "# Here's how to generate a prediction on individual examples\n",
    "text_labels = encoder.classes_ \n",
    "\n",
    "# Use sklearn utility to convert label strings to numbered index\n",
    "encoder.fit(valid_labels)\n",
    "\n",
    "y_valid = encoder.transform(valid_labels)"
   ]
  },
  {
   "cell_type": "code",
   "execution_count": 62,
   "metadata": {},
   "outputs": [
    {
     "name": "stdout",
     "output_type": "stream",
     "text": [
      "Actual label:sport;Predicted label: sport\n",
      "\n",
      "Actual label:politics;Predicted label: politics\n",
      "\n",
      "Actual label:entertainment;Predicted label: tech\n",
      "\n"
     ]
    }
   ],
   "source": [
    "for i in range(3):\n",
    "    prediction = model.predict(np.array([x_valid[i]]))\n",
    "    predicted_label = text_labels[np.argmax(prediction)]\n",
    "    #print(valid_text.iloc[i][:20], \"...\")\n",
    "    print('Actual label:' + valid_labels[i] +\";\" \"Predicted label: \" + predicted_label + \"\\n\")\n",
    "   "
   ]
  },
  {
   "cell_type": "markdown",
   "metadata": {},
   "source": [
    "Run neural network:\n",
    "Reference: https://www.kaggle.com/yufengdev/bbc-text-categorization"
   ]
  }
 ],
 "metadata": {
  "kernelspec": {
   "display_name": "Python 3",
   "language": "python",
   "name": "python3"
  },
  "language_info": {
   "codemirror_mode": {
    "name": "ipython",
    "version": 3
   },
   "file_extension": ".py",
   "mimetype": "text/x-python",
   "name": "python",
   "nbconvert_exporter": "python",
   "pygments_lexer": "ipython3",
   "version": "3.7.4"
  }
 },
 "nbformat": 4,
 "nbformat_minor": 2
}
